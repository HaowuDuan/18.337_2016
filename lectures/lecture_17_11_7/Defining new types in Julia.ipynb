{
 "cells": [
  {
   "cell_type": "markdown",
   "metadata": {},
   "source": [
    "[This notebook describes the behavior in Julia 0.5 and later. There were some significant differences in earlier versions of Julia that are not described here.]"
   ]
  },
  {
   "cell_type": "markdown",
   "metadata": {},
   "source": [
    "##  Defining new types"
   ]
  },
  {
   "cell_type": "markdown",
   "metadata": {},
   "source": [
    "Types form one of the cornerstones of Julia, enabling both its elegance and speed (despite the fact that one usually explicitly refers to types much less than in, say, C++).\n",
    "\n",
    "In this notebook, we will look at how to define new types in Julia. This is very common when you need a certain **kind (type) of behaviour** that is not captured by the \"built-in\" types.\n",
    "\n",
    "User-defined types are on the same footing as the \"built-in\" types in the standard library (`Int`, `Float64`, etc.), which are themselves defined in Julia's base library (which is written in Julia). The compiler is often able to \"optimize away\" the type structure, so that the resulting code is just as efficient as it would have been if you had not used types and had just written out the corresponding operations. We are thus at liberty to use types to structure our code and reflect the model of the world that we wish to implement, without suffering from poor performance."
   ]
  },
  {
   "cell_type": "markdown",
   "metadata": {},
   "source": [
    "## Basic type definitions"
   ]
  },
  {
   "cell_type": "markdown",
   "metadata": {},
   "source": [
    "We will look at a concrete example that arose naturally in real code in the author's pacakage \n",
    "[`IntervalConstraintProgramming.jl`](https://github.com/dpsanders/IntervalConstraintProgramming.jl): defining a type  to represent the volume of an object. This is similar to a [post on the `julia-users` mailing list](https://groups.google.com/forum/#!searchin/julia-users/probability/julia-users/PpXLxHajsfA/UWpmJZd2BQAJ) about defining a type to represent a probability.  \n",
    "\n",
    "Despite the fact that the type contains only a single field, many of the confusing points about types in Julia can be best appreciated in this apparently simple situation."
   ]
  },
  {
   "cell_type": "markdown",
   "metadata": {},
   "source": [
    "We could choose to represent a volume with a standard `Float64`, but, as we shall see, there are good reasons to wrap this into a new type:"
   ]
  },
  {
   "cell_type": "code",
   "execution_count": 1,
   "metadata": {
    "cell_style": "center",
    "collapsed": false
   },
   "outputs": [
    {
     "data": {
      "text/plain": [
       "f (generic function with 1 method)"
      ]
     },
     "execution_count": 1,
     "metadata": {},
     "output_type": "execute_result"
    }
   ],
   "source": [
    "type Vol\n",
    "    value::Float64\n",
    "end\n",
    "\n",
    "function f(x)\n",
    "    x\n",
    "end\n"
   ]
  },
  {
   "cell_type": "markdown",
   "metadata": {},
   "source": [
    "[The keyword `type` is likely to change in a future version of Julia.] "
   ]
  },
  {
   "cell_type": "markdown",
   "metadata": {},
   "source": [
    "This defines a \"template\" for making objects (which are basically boxes that contain information), and specifies their internal structure; the resulting structure / shape is given the name `Vol`. Each is specified to contain a single object, a variable with the name `value` of type `Float64`. Note, however, that no actual object has yet been created."
   ]
  },
  {
   "cell_type": "markdown",
   "metadata": {},
   "source": [
    "To create an object of type `Vol`, we write"
   ]
  },
  {
   "cell_type": "code",
   "execution_count": 2,
   "metadata": {
    "collapsed": false
   },
   "outputs": [
    {
     "data": {
      "text/plain": [
       "Vol(3.0)"
      ]
     },
     "execution_count": 2,
     "metadata": {},
     "output_type": "execute_result"
    }
   ],
   "source": [
    "V = Vol(3)"
   ]
  },
  {
   "cell_type": "markdown",
   "metadata": {},
   "source": [
    "Note that this **constructor** (a function with the same name as the type that creates objects of that type) was **automatically generated** when we defined the type. We can ask Julia which of these so-called default constructors are provided:"
   ]
  },
  {
   "cell_type": "code",
   "execution_count": 3,
   "metadata": {
    "collapsed": false
   },
   "outputs": [
    {
     "data": {
      "text/html": [
       "3 methods for generic function <b>Type</b>:<ul><li> Vol(value::<b>Float64</b>) at In[1]:2</li> <li> Vol(value) at In[1]:2</li> <li> (::<b>Type{T}</b>)<i>{T}</i>(arg) at <a href=\"https://github.com/JuliaLang/julia/tree/3c9d75391c72d7c32eea75ff187ce77b2d5effc8/base/sysimg.jl#L53\" target=\"_blank\">sysimg.jl:53</a></li> </ul>"
      ],
      "text/plain": [
       "# 3 methods for generic function \"(::Type)\":\n",
       "Vol(value::Float64) at In[1]:2\n",
       "Vol(value) at In[1]:2\n",
       "(::Type{T}){T}(arg) at sysimg.jl:53"
      ]
     },
     "execution_count": 3,
     "metadata": {},
     "output_type": "execute_result"
    }
   ],
   "source": [
    "methods(Vol)"
   ]
  },
  {
   "cell_type": "code",
   "execution_count": 4,
   "metadata": {
    "collapsed": false
   },
   "outputs": [
    {
     "data": {
      "text/plain": [
       "Vol(10.5)"
      ]
     },
     "execution_count": 4,
     "metadata": {},
     "output_type": "execute_result"
    }
   ],
   "source": [
    "W = Vol(10.5)"
   ]
  },
  {
   "cell_type": "markdown",
   "metadata": {},
   "source": [
    "Trying to use "
   ]
  },
  {
   "cell_type": "code",
   "execution_count": 5,
   "metadata": {
    "collapsed": false
   },
   "outputs": [
    {
     "ename": "LoadError",
     "evalue": "LoadError: MethodError: `convert` has no method matching convert(::Type{Float64}, ::ASCIIString)\nThis may have arisen from a call to the constructor Float64(...),\nsince type constructors fall back to convert methods.\nClosest candidates are:\n  call{T}(::Type{T}, ::Any)\n  convert(::Type{Float64}, !Matched::Int8)\n  convert(::Type{Float64}, !Matched::Int16)\n  ...\nwhile loading In[5], in expression starting on line 1",
     "output_type": "error",
     "traceback": [
      "LoadError: MethodError: `convert` has no method matching convert(::Type{Float64}, ::ASCIIString)\nThis may have arisen from a call to the constructor Float64(...),\nsince type constructors fall back to convert methods.\nClosest candidates are:\n  call{T}(::Type{T}, ::Any)\n  convert(::Type{Float64}, !Matched::Int8)\n  convert(::Type{Float64}, !Matched::Int16)\n  ...\nwhile loading In[5], in expression starting on line 1",
      "",
      " in call at In[2]:2"
     ]
    }
   ],
   "source": [
    "Vol(\"David\")"
   ]
  },
  {
   "cell_type": "markdown",
   "metadata": {},
   "source": [
    "gives an error, due to "
   ]
  },
  {
   "cell_type": "code",
   "execution_count": 8,
   "metadata": {
    "collapsed": false
   },
   "outputs": [
    {
     "ename": "LoadError",
     "evalue": "LoadError: MethodError: `convert` has no method matching convert(::Type{Float64}, ::ASCIIString)\nThis may have arisen from a call to the constructor Float64(...),\nsince type constructors fall back to convert methods.\nClosest candidates are:\n  call{T}(::Type{T}, ::Any)\n  convert(::Type{Float64}, !Matched::Int8)\n  convert(::Type{Float64}, !Matched::Int16)\n  ...\nwhile loading In[8], in expression starting on line 1",
     "output_type": "error",
     "traceback": [
      "LoadError: MethodError: `convert` has no method matching convert(::Type{Float64}, ::ASCIIString)\nThis may have arisen from a call to the constructor Float64(...),\nsince type constructors fall back to convert methods.\nClosest candidates are:\n  call{T}(::Type{T}, ::Any)\n  convert(::Type{Float64}, !Matched::Int8)\n  convert(::Type{Float64}, !Matched::Int16)\n  ...\nwhile loading In[8], in expression starting on line 1",
      ""
     ]
    }
   ],
   "source": [
    "convert(Float64, \"David\")"
   ]
  },
  {
   "cell_type": "markdown",
   "metadata": {},
   "source": [
    "To interactively introspect and find out whath is inside the object `V`, we write `V.<TAB>`[press the `TAB` key after typing `V.` at the REPL, in the notebook, or in Atom].\n",
    "\n",
    "Alternatively, we can use `fieldnames`, which returns an array of `Symbol`s, containing the names of the fields:"
   ]
  },
  {
   "cell_type": "code",
   "execution_count": 4,
   "metadata": {
    "collapsed": false
   },
   "outputs": [
    {
     "data": {
      "text/plain": [
       "1-element Array{Symbol,1}:\n",
       " :value"
      ]
     },
     "execution_count": 4,
     "metadata": {},
     "output_type": "execute_result"
    }
   ],
   "source": [
    "fieldnames(V)"
   ]
  },
  {
   "cell_type": "markdown",
   "metadata": {},
   "source": [
    "We access the field with any of the following commands:"
   ]
  },
  {
   "cell_type": "code",
   "execution_count": 15,
   "metadata": {
    "collapsed": false
   },
   "outputs": [
    {
     "data": {
      "text/plain": [
       "3.0"
      ]
     },
     "execution_count": 15,
     "metadata": {},
     "output_type": "execute_result"
    }
   ],
   "source": [
    "V.value"
   ]
  },
  {
   "cell_type": "code",
   "execution_count": 16,
   "metadata": {
    "collapsed": false
   },
   "outputs": [
    {
     "data": {
      "text/plain": [
       "3.0"
      ]
     },
     "execution_count": 16,
     "metadata": {},
     "output_type": "execute_result"
    }
   ],
   "source": [
    "getfield(V, :value)  # by name"
   ]
  },
  {
   "cell_type": "code",
   "execution_count": 17,
   "metadata": {
    "collapsed": false
   },
   "outputs": [
    {
     "data": {
      "text/plain": [
       "3.0"
      ]
     },
     "execution_count": 17,
     "metadata": {},
     "output_type": "execute_result"
    }
   ],
   "source": [
    "getfield(V, 1)       # by number"
   ]
  },
  {
   "cell_type": "markdown",
   "metadata": {},
   "source": [
    "In a `type`, we can also change the values of the variables in the object"
   ]
  },
  {
   "cell_type": "code",
   "execution_count": 5,
   "metadata": {
    "collapsed": false
   },
   "outputs": [
    {
     "data": {
      "text/plain": [
       "10"
      ]
     },
     "execution_count": 5,
     "metadata": {},
     "output_type": "execute_result"
    }
   ],
   "source": [
    "V.value = 10"
   ]
  },
  {
   "cell_type": "code",
   "execution_count": 6,
   "metadata": {
    "collapsed": false
   },
   "outputs": [
    {
     "data": {
      "text/plain": [
       "Vol(10.0)"
      ]
     },
     "execution_count": 6,
     "metadata": {},
     "output_type": "execute_result"
    }
   ],
   "source": [
    "V"
   ]
  },
  {
   "cell_type": "markdown",
   "metadata": {},
   "source": [
    "We may want to prevent a user from altering the value stored in the object. To do this, use `immutable` instead of `type`:"
   ]
  },
  {
   "cell_type": "code",
   "execution_count": 7,
   "metadata": {
    "collapsed": true
   },
   "outputs": [],
   "source": [
    "immutable Vol2\n",
    "    value::Float64\n",
    "end"
   ]
  },
  {
   "cell_type": "code",
   "execution_count": 8,
   "metadata": {
    "collapsed": false
   },
   "outputs": [
    {
     "data": {
      "text/plain": [
       "Vol2(3.5)"
      ]
     },
     "execution_count": 8,
     "metadata": {},
     "output_type": "execute_result"
    }
   ],
   "source": [
    "V2 = Vol2(3.5)"
   ]
  },
  {
   "cell_type": "code",
   "execution_count": 9,
   "metadata": {
    "collapsed": false
   },
   "outputs": [
    {
     "data": {
      "text/plain": [
       "3.5"
      ]
     },
     "execution_count": 9,
     "metadata": {},
     "output_type": "execute_result"
    }
   ],
   "source": [
    "V2.value"
   ]
  },
  {
   "cell_type": "code",
   "execution_count": 10,
   "metadata": {
    "collapsed": false
   },
   "outputs": [
    {
     "ename": "LoadError",
     "evalue": "LoadError: type Vol2 is immutable\nwhile loading In[10], in expression starting on line 1",
     "output_type": "error",
     "traceback": [
      "LoadError: type Vol2 is immutable\nwhile loading In[10], in expression starting on line 1",
      ""
     ]
    }
   ],
   "source": [
    "V2.value = 10"
   ]
  },
  {
   "cell_type": "markdown",
   "metadata": {},
   "source": [
    "## Constructors"
   ]
  },
  {
   "cell_type": "markdown",
   "metadata": {},
   "source": [
    "So far, we have been using the default constructors. These have the following problem:"
   ]
  },
  {
   "cell_type": "code",
   "execution_count": 11,
   "metadata": {
    "collapsed": false
   },
   "outputs": [
    {
     "data": {
      "text/plain": [
       "Vol(-1.0)"
      ]
     },
     "execution_count": 11,
     "metadata": {},
     "output_type": "execute_result"
    }
   ],
   "source": [
    "Vol(-1)"
   ]
  },
  {
   "cell_type": "markdown",
   "metadata": {},
   "source": [
    "This should not be allowed, since volumes cannot be negative. We want to impose a constraint *at the moment when we  create the object*, i.e. in the constructor. To do so, we define an **inner constructor**, i.e. a constructor that is defined *inside* the type definition.\n",
    "\n",
    "Since Julia does not allow redefining types, we need to clear the workspace before we do so:"
   ]
  },
  {
   "cell_type": "code",
   "execution_count": 12,
   "metadata": {
    "collapsed": true
   },
   "outputs": [],
   "source": [
    "workspace()"
   ]
  },
  {
   "cell_type": "code",
   "execution_count": 13,
   "metadata": {
    "collapsed": true
   },
   "outputs": [],
   "source": [
    "immutable Vol\n",
    "    value::Float64\n",
    "    \n",
    "    function Vol(x)\n",
    "        isa(x, Real) || throw(ArgumentError(\"Volume must be real.\"))\n",
    "        x < 0 && throw(ArgumentError(\"Negative volume not allowed.\"))\n",
    "        \n",
    "        new(x)\n",
    "    end\n",
    "end"
   ]
  },
  {
   "cell_type": "code",
   "execution_count": 14,
   "metadata": {
    "collapsed": false
   },
   "outputs": [
    {
     "ename": "LoadError",
     "evalue": "LoadError: ArgumentError: Must be real\nwhile loading In[14], in expression starting on line 1",
     "output_type": "error",
     "traceback": [
      "LoadError: ArgumentError: Must be real\nwhile loading In[14], in expression starting on line 1",
      "",
      " in Vol(::String) at In[13]:5"
     ]
    }
   ],
   "source": [
    "Vol(\"hola\")"
   ]
  },
  {
   "cell_type": "code",
   "execution_count": 15,
   "metadata": {
    "collapsed": false
   },
   "outputs": [
    {
     "ename": "LoadError",
     "evalue": "LoadError: ArgumentError: Negative volume not allowed.\nwhile loading In[15], in expression starting on line 1",
     "output_type": "error",
     "traceback": [
      "LoadError: ArgumentError: Negative volume not allowed.\nwhile loading In[15], in expression starting on line 1",
      "",
      " in Vol(::Int64) at In[13]:6"
     ]
    }
   ],
   "source": [
    "Vol(-3)"
   ]
  },
  {
   "cell_type": "code",
   "execution_count": 16,
   "metadata": {
    "collapsed": false
   },
   "outputs": [
    {
     "data": {
      "text/plain": [
       "Vol(1.0)"
      ]
     },
     "execution_count": 16,
     "metadata": {},
     "output_type": "execute_result"
    }
   ],
   "source": [
    "Vol(1)"
   ]
  },
  {
   "cell_type": "markdown",
   "metadata": {},
   "source": [
    "Here we have used so-called [\"short-circuit\" evaluation](http://docs.julialang.org/en/release-0.4/manual/control-flow/#man-short-circuit-evaluation): `&&` can be thought of as an `if...then`, while `||` is `unless...` (i.e. `if not ... then`).\n",
    "\n",
    "The function `new` is a special function that instantiates (creates) the object. Using `new`, some of the fields may be left empty, by not including them in the call to `new`, and filled in later (if the type is not `immutable`), for example:"
   ]
  },
  {
   "cell_type": "code",
   "execution_count": 63,
   "metadata": {
    "collapsed": true
   },
   "outputs": [],
   "source": [
    "workspace()\n",
    "\n",
    "type Example\n",
    "    a::Float64\n",
    "    b::Vector{Int}\n",
    "    \n",
    "    Example(a) = new(a)\n",
    "end"
   ]
  },
  {
   "cell_type": "markdown",
   "metadata": {},
   "source": [
    "Which constructors are now available?"
   ]
  },
  {
   "cell_type": "code",
   "execution_count": 66,
   "metadata": {
    "collapsed": false
   },
   "outputs": [
    {
     "data": {
      "text/html": [
       "2 methods for generic function <b>Type</b>:<ul><li> Example(a) at In[63]:7</li> <li> (::<b>Type{T}</b>)<i>{T}</i>(arg) at <a href=\"https://github.com/JuliaLang/julia/tree/3c9d75391c72d7c32eea75ff187ce77b2d5effc8/base/sysimg.jl#L53\" target=\"_blank\">sysimg.jl:53</a></li> </ul>"
      ],
      "text/plain": [
       "# 2 methods for generic function \"(::Type)\":\n",
       "Example(a) at In[63]:7\n",
       "(::Type{T}){T}(arg) at sysimg.jl:53"
      ]
     },
     "execution_count": 66,
     "metadata": {},
     "output_type": "execute_result"
    }
   ],
   "source": [
    "methods(Example)"
   ]
  },
  {
   "cell_type": "markdown",
   "metadata": {},
   "source": [
    "We see that defining our own inner constructor prevented Julia from automatically defining any constructors."
   ]
  },
  {
   "cell_type": "code",
   "execution_count": 32,
   "metadata": {
    "collapsed": false
   },
   "outputs": [
    {
     "data": {
      "text/plain": [
       "Example(3.0,#undef)"
      ]
     },
     "execution_count": 32,
     "metadata": {},
     "output_type": "execute_result"
    }
   ],
   "source": [
    "x = Example(3)"
   ]
  },
  {
   "cell_type": "markdown",
   "metadata": {},
   "source": [
    "Here, `x.b` was not initialized. Accessing it produces an error:"
   ]
  },
  {
   "cell_type": "code",
   "execution_count": 33,
   "metadata": {
    "collapsed": false
   },
   "outputs": [
    {
     "ename": "LoadError",
     "evalue": "LoadError: UndefRefError: access to undefined reference\nwhile loading In[33], in expression starting on line 1",
     "output_type": "error",
     "traceback": [
      "LoadError: UndefRefError: access to undefined reference\nwhile loading In[33], in expression starting on line 1",
      ""
     ]
    }
   ],
   "source": [
    "x.b"
   ]
  },
  {
   "cell_type": "markdown",
   "metadata": {},
   "source": [
    "But we can modify its value:"
   ]
  },
  {
   "cell_type": "code",
   "execution_count": 36,
   "metadata": {
    "collapsed": false
   },
   "outputs": [
    {
     "data": {
      "text/plain": [
       "Example(3.0,[1,2])"
      ]
     },
     "execution_count": 36,
     "metadata": {},
     "output_type": "execute_result"
    }
   ],
   "source": [
    "x.b = [1, 2]\n",
    "\n",
    "x"
   ]
  },
  {
   "cell_type": "markdown",
   "metadata": {},
   "source": [
    "Note that the constructor that accepts both arguments is not defined:"
   ]
  },
  {
   "cell_type": "code",
   "execution_count": 65,
   "metadata": {
    "collapsed": false
   },
   "outputs": [
    {
     "ename": "LoadError",
     "evalue": "LoadError: MethodError: no method matching Example(::Int64, ::Array{Int64,1})\nClosest candidates are:\n  Example(::Any) at In[63]:7\n  Example{T}(::Any) at sysimg.jl:53\nwhile loading In[65], in expression starting on line 1",
     "output_type": "error",
     "traceback": [
      "LoadError: MethodError: no method matching Example(::Int64, ::Array{Int64,1})\nClosest candidates are:\n  Example(::Any) at In[63]:7\n  Example{T}(::Any) at sysimg.jl:53\nwhile loading In[65], in expression starting on line 1",
      ""
     ]
    }
   ],
   "source": [
    "Example(1, [1, 2])"
   ]
  },
  {
   "cell_type": "markdown",
   "metadata": {},
   "source": [
    "If we wish to define it, then we need to add it as another inner constructor:"
   ]
  },
  {
   "cell_type": "code",
   "execution_count": 67,
   "metadata": {
    "collapsed": true
   },
   "outputs": [],
   "source": [
    "workspace()\n",
    "\n",
    "type Example\n",
    "    a::Float64\n",
    "    b::Vector{Int}\n",
    "    \n",
    "    Example(a) = new(a)\n",
    "    Example(a, b) = new(a, b)\n",
    "end"
   ]
  },
  {
   "cell_type": "code",
   "execution_count": 68,
   "metadata": {
    "collapsed": false
   },
   "outputs": [
    {
     "data": {
      "text/plain": [
       "Example(1.0,[1,2])"
      ]
     },
     "execution_count": 68,
     "metadata": {},
     "output_type": "execute_result"
    }
   ],
   "source": [
    "Example(1, [1, 2])"
   ]
  },
  {
   "cell_type": "markdown",
   "metadata": {},
   "source": [
    "## Making types parametric"
   ]
  },
  {
   "cell_type": "markdown",
   "metadata": {},
   "source": [
    "There is no reason why volumes should be `Float64` -- they may be any kind of number. We could just remove the type annotation:"
   ]
  },
  {
   "cell_type": "code",
   "execution_count": 17,
   "metadata": {
    "collapsed": true
   },
   "outputs": [],
   "source": [
    "workspace()"
   ]
  },
  {
   "cell_type": "code",
   "execution_count": 18,
   "metadata": {
    "collapsed": true
   },
   "outputs": [],
   "source": [
    "immutable Vol\n",
    "    value   # DO NOT DO THIS!\n",
    "end"
   ]
  },
  {
   "cell_type": "code",
   "execution_count": 19,
   "metadata": {
    "collapsed": false
   },
   "outputs": [
    {
     "data": {
      "text/plain": [
       "Vol(3.5)"
      ]
     },
     "execution_count": 19,
     "metadata": {},
     "output_type": "execute_result"
    }
   ],
   "source": [
    "Vol(3.5)"
   ]
  },
  {
   "cell_type": "code",
   "execution_count": 20,
   "metadata": {
    "collapsed": false
   },
   "outputs": [
    {
     "data": {
      "text/plain": [
       "Vol(3)"
      ]
     },
     "execution_count": 20,
     "metadata": {},
     "output_type": "execute_result"
    }
   ],
   "source": [
    "Vol(3)"
   ]
  },
  {
   "cell_type": "code",
   "execution_count": 21,
   "metadata": {
    "collapsed": false
   },
   "outputs": [
    {
     "data": {
      "text/plain": [
       "Vol(\"hello\")"
      ]
     },
     "execution_count": 21,
     "metadata": {},
     "output_type": "execute_result"
    }
   ],
   "source": [
    "Vol(\"hello\")"
   ]
  },
  {
   "cell_type": "markdown",
   "metadata": {},
   "source": [
    "but we should **never do this**.  [By \"never\", we of course mean \"only if you are really sure that you know what you're doing\" and won't complain about the consequences.] The reason for this is that Julia is unable to infer the type of the variable, and so will be **very slow**.\n",
    "\n",
    "Instead, what we really mean is that there should be a *different type* of `Vol` for each type that it could contain - integers, floats, `BigFloat`s, rationals, intervals, etc.\n",
    "To tell Julia this, we use a **type parameter**, written with curly braces:"
   ]
  },
  {
   "cell_type": "code",
   "execution_count": 22,
   "metadata": {
    "collapsed": true
   },
   "outputs": [],
   "source": [
    "workspace()"
   ]
  },
  {
   "cell_type": "code",
   "execution_count": 37,
   "metadata": {
    "collapsed": true
   },
   "outputs": [],
   "source": [
    "immutable Vol{T}\n",
    "    value::T   # DO THIS INSTEAD!\n",
    "end"
   ]
  },
  {
   "cell_type": "markdown",
   "metadata": {},
   "source": [
    "This says \"for **any** type `T`, define a `Vol` with type parameter `T` as follows\". This makes `Vol` a **parametric type**, a kind of meta-template (a template for templates). This turns out to be a surprisingly powerful concept when combined with multiple dispatch.  \n",
    "\n",
    "The curly braces here, `{T}`, can be read as \"for a given `T`, define `Vol`, parameterized with that `T`, as follows\"; note that `T` is used in the body of the type definition. \n",
    "\n",
    "Again, default constructors are automatically provided:"
   ]
  },
  {
   "cell_type": "code",
   "execution_count": 38,
   "metadata": {
    "collapsed": false
   },
   "outputs": [
    {
     "data": {
      "text/plain": [
       "Vol{Int64}(3)"
      ]
     },
     "execution_count": 38,
     "metadata": {},
     "output_type": "execute_result"
    }
   ],
   "source": [
    "Vol{Int64}(3)"
   ]
  },
  {
   "cell_type": "code",
   "execution_count": 39,
   "metadata": {
    "collapsed": false
   },
   "outputs": [
    {
     "data": {
      "text/plain": [
       "Vol{Float64}(3.5)"
      ]
     },
     "execution_count": 39,
     "metadata": {},
     "output_type": "execute_result"
    }
   ],
   "source": [
    "Vol{Float64}(3.5)"
   ]
  },
  {
   "cell_type": "markdown",
   "metadata": {},
   "source": [
    "The parameter `T` in the type definition means that when Julia sees *any* constructor called as `Vol{T}` for a given type `T`, it uses the body of the definition with `T` substituted with the corresponding type.\n",
    "\n",
    "However, we are doing extra work that should be the job of the compiler: the compiler should be able to **infer** that `3` is an `Int64`, and indeed it can:"
   ]
  },
  {
   "cell_type": "code",
   "execution_count": 41,
   "metadata": {
    "collapsed": false
   },
   "outputs": [
    {
     "data": {
      "text/plain": [
       "Vol{Int64}(3)"
      ]
     },
     "execution_count": 41,
     "metadata": {},
     "output_type": "execute_result"
    }
   ],
   "source": [
    "Vol(3)"
   ]
  },
  {
   "cell_type": "code",
   "execution_count": 42,
   "metadata": {
    "collapsed": false
   },
   "outputs": [
    {
     "data": {
      "text/plain": [
       "Vol{Float64}(3.5)"
      ]
     },
     "execution_count": 42,
     "metadata": {},
     "output_type": "execute_result"
    }
   ],
   "source": [
    "Vol(3.5)"
   ]
  },
  {
   "cell_type": "code",
   "execution_count": 43,
   "metadata": {
    "collapsed": false
   },
   "outputs": [
    {
     "data": {
      "text/plain": [
       "Vol{String}(\"hello\")"
      ]
     },
     "execution_count": 43,
     "metadata": {},
     "output_type": "execute_result"
    }
   ],
   "source": [
    "Vol(\"hello\")"
   ]
  },
  {
   "cell_type": "code",
   "execution_count": 44,
   "metadata": {
    "collapsed": false
   },
   "outputs": [
    {
     "name": "stdout",
     "output_type": "stream",
     "text": [
      "search: <:\n",
      "\n"
     ]
    },
    {
     "data": {
      "text/markdown": [
       "```\n",
       "<:(T1, T2)\n",
       "```\n",
       "\n",
       "Subtype operator, equivalent to `issubtype(T1,T2)`.\n"
      ],
      "text/plain": [
       "```\n",
       "<:(T1, T2)\n",
       "```\n",
       "\n",
       "Subtype operator, equivalent to `issubtype(T1,T2)`.\n"
      ]
     },
     "execution_count": 44,
     "metadata": {},
     "output_type": "execute_result"
    }
   ],
   "source": [
    "?<:"
   ]
  },
  {
   "cell_type": "markdown",
   "metadata": {},
   "source": [
    "Here we find a new problem: the volume should be a real number. We can specify this restriction using the **subtype operator**, `<:`:"
   ]
  },
  {
   "cell_type": "code",
   "execution_count": 45,
   "metadata": {
    "collapsed": true
   },
   "outputs": [],
   "source": [
    "workspace()"
   ]
  },
  {
   "cell_type": "code",
   "execution_count": 49,
   "metadata": {
    "collapsed": false
   },
   "outputs": [
    {
     "data": {
      "text/plain": [
       "true"
      ]
     },
     "execution_count": 49,
     "metadata": {},
     "output_type": "execute_result"
    }
   ],
   "source": [
    "Int <: Real   # \"is a subtype\""
   ]
  },
  {
   "cell_type": "code",
   "execution_count": 46,
   "metadata": {
    "collapsed": false
   },
   "outputs": [
    {
     "data": {
      "text/plain": [
       "false"
      ]
     },
     "execution_count": 46,
     "metadata": {},
     "output_type": "execute_result"
    }
   ],
   "source": [
    "String <: Real"
   ]
  },
  {
   "cell_type": "code",
   "execution_count": 47,
   "metadata": {
    "code_folding": [],
    "collapsed": false
   },
   "outputs": [],
   "source": [
    "immutable Vol{T <: Real}  # only accept types T that are subtypes of Real\n",
    "    value::T   \n",
    "end"
   ]
  },
  {
   "cell_type": "code",
   "execution_count": 48,
   "metadata": {
    "collapsed": false
   },
   "outputs": [
    {
     "ename": "LoadError",
     "evalue": "LoadError: MethodError: Cannot `convert` an object of type String to an object of type Vol{T<:Real}\nThis may have arisen from a call to the constructor Vol{T<:Real}(...),\nsince type constructors fall back to convert methods.\nwhile loading In[48], in expression starting on line 1",
     "output_type": "error",
     "traceback": [
      "LoadError: MethodError: Cannot `convert` an object of type String to an object of type Vol{T<:Real}\nThis may have arisen from a call to the constructor Vol{T<:Real}(...),\nsince type constructors fall back to convert methods.\nwhile loading In[48], in expression starting on line 1",
      "",
      " in Vol{T<:Real}(::String) at sysimg.jl:53"
     ]
    }
   ],
   "source": [
    "Vol(\"hello\")"
   ]
  },
  {
   "cell_type": "code",
   "execution_count": 49,
   "metadata": {
    "collapsed": false
   },
   "outputs": [
    {
     "data": {
      "text/plain": [
       "Vol{Int64}(3)"
      ]
     },
     "execution_count": 49,
     "metadata": {},
     "output_type": "execute_result"
    }
   ],
   "source": [
    "Vol(3)"
   ]
  },
  {
   "cell_type": "markdown",
   "metadata": {},
   "source": [
    "Let's consider a more complicated example, representing a particle in one dimension. The particle has a position and a velocity, and we would like to restrict them to have the same, real type:"
   ]
  },
  {
   "cell_type": "code",
   "execution_count": 50,
   "metadata": {
    "code_folding": [],
    "collapsed": true
   },
   "outputs": [],
   "source": [
    "type Particle{T <: Real}\n",
    "    x::T\n",
    "    v::T\n",
    "end"
   ]
  },
  {
   "cell_type": "code",
   "execution_count": 51,
   "metadata": {
    "collapsed": false
   },
   "outputs": [
    {
     "data": {
      "text/plain": [
       "Particle{Int64}(3,4)"
      ]
     },
     "execution_count": 51,
     "metadata": {},
     "output_type": "execute_result"
    }
   ],
   "source": [
    "p = Particle(3, 4)"
   ]
  },
  {
   "cell_type": "code",
   "execution_count": 53,
   "metadata": {
    "collapsed": false
   },
   "outputs": [
    {
     "ename": "LoadError",
     "evalue": "LoadError: MethodError: no method matching Particle{T<:Real}(::Int64, ::Float64)\nClosest candidates are:\n  Particle{T<:Real}{T<:Real}(::T<:Real, !Matched::T<:Real) at In[50]:2\n  Particle{T<:Real}{T}(::Any) at sysimg.jl:53\nwhile loading In[53], in expression starting on line 1",
     "output_type": "error",
     "traceback": [
      "LoadError: MethodError: no method matching Particle{T<:Real}(::Int64, ::Float64)\nClosest candidates are:\n  Particle{T<:Real}{T<:Real}(::T<:Real, !Matched::T<:Real) at In[50]:2\n  Particle{T<:Real}{T}(::Any) at sysimg.jl:53\nwhile loading In[53], in expression starting on line 1",
      ""
     ]
    }
   ],
   "source": [
    "p2 = Particle(3, 4.5)"
   ]
  },
  {
   "cell_type": "markdown",
   "metadata": {},
   "source": [
    "We see that Julia is doing something quite sophisticated: it tries to fill in the types `T` *and* checks that types with the same parameter `T` do actually match. If they do, then it generates the corresponding type with the corresponding `T`."
   ]
  },
  {
   "cell_type": "markdown",
   "metadata": {},
   "source": [
    "What if we wanted to allow `Particle(3, 4.5)`, such that both got promoted to a common type? We do this by adding a new constructor:"
   ]
  },
  {
   "cell_type": "code",
   "execution_count": 54,
   "metadata": {
    "collapsed": false
   },
   "outputs": [
    {
     "data": {
      "text/plain": [
       "Particle{T<:Real}"
      ]
     },
     "execution_count": 54,
     "metadata": {},
     "output_type": "execute_result"
    }
   ],
   "source": [
    "Particle(a::Real, b::Real) = Particle(promote(a, b)...)"
   ]
  },
  {
   "cell_type": "code",
   "execution_count": 55,
   "metadata": {
    "collapsed": false
   },
   "outputs": [
    {
     "data": {
      "text/plain": [
       "Particle{Float64}(3.0,4.5)"
      ]
     },
     "execution_count": 55,
     "metadata": {},
     "output_type": "execute_result"
    }
   ],
   "source": [
    "Particle(3, 4.5)"
   ]
  },
  {
   "cell_type": "code",
   "execution_count": 56,
   "metadata": {
    "collapsed": false
   },
   "outputs": [
    {
     "data": {
      "text/plain": [
       "(3.0,4.5)"
      ]
     },
     "execution_count": 56,
     "metadata": {},
     "output_type": "execute_result"
    }
   ],
   "source": [
    "promote(3, 4.5)"
   ]
  },
  {
   "cell_type": "markdown",
   "metadata": {},
   "source": [
    "Here, the `...` operator is called a **splat**. It takes the tuple that is the result of `promote` and \"undoes it\", passing the values inside the tuple as individual arguments to the function `Particle`.\n",
    "Without the splat, `Particle(promote(a, b))` would pass the tuple that is the result of `promote(a, b)` to the constructor `Particle` as a *single*, tuple argument."
   ]
  },
  {
   "cell_type": "markdown",
   "metadata": {},
   "source": [
    "**Exercise**: write a constructor of the `Particle` type that accepts a tuple."
   ]
  },
  {
   "cell_type": "markdown",
   "metadata": {},
   "source": [
    "## Inner constructors for parametric types"
   ]
  },
  {
   "cell_type": "markdown",
   "metadata": {},
   "source": [
    "What happens if we try to add an inner constructor to a parametric type?"
   ]
  },
  {
   "cell_type": "code",
   "execution_count": 37,
   "metadata": {
    "collapsed": true
   },
   "outputs": [],
   "source": [
    "workspace()"
   ]
  },
  {
   "cell_type": "code",
   "execution_count": 38,
   "metadata": {
    "code_folding": [],
    "collapsed": false
   },
   "outputs": [],
   "source": [
    "immutable Vol{T<:Real}\n",
    "    value::T   \n",
    "    \n",
    "    function Vol(x::Real)\n",
    "        x < 0 && throw(ArgumentError(\"Negative volume not allowed.\"))\n",
    "        \n",
    "        new(x)\n",
    "    end\n",
    "end"
   ]
  },
  {
   "cell_type": "code",
   "execution_count": 39,
   "metadata": {
    "collapsed": false
   },
   "outputs": [
    {
     "ename": "LoadError",
     "evalue": "LoadError: MethodError: Cannot `convert` an object of type Int64 to an object of type Vol{T<:Real}\nThis may have arisen from a call to the constructor Vol{T<:Real}(...),\nsince type constructors fall back to convert methods.\nwhile loading In[39], in expression starting on line 1",
     "output_type": "error",
     "traceback": [
      "LoadError: MethodError: Cannot `convert` an object of type Int64 to an object of type Vol{T<:Real}\nThis may have arisen from a call to the constructor Vol{T<:Real}(...),\nsince type constructors fall back to convert methods.\nwhile loading In[39], in expression starting on line 1",
      "",
      " in Vol{T<:Real}(::Int64) at sysimg.jl:53"
     ]
    }
   ],
   "source": [
    "Vol(3)"
   ]
  },
  {
   "cell_type": "markdown",
   "metadata": {},
   "source": [
    "It seems like we can no longer construct an object of this type. In fact we can, by explicitly specifying the type:"
   ]
  },
  {
   "cell_type": "code",
   "execution_count": 7,
   "metadata": {
    "code_folding": [],
    "collapsed": false
   },
   "outputs": [
    {
     "data": {
      "text/plain": [
       "Vol{Int64}(3)"
      ]
     },
     "execution_count": 7,
     "metadata": {},
     "output_type": "execute_result"
    }
   ],
   "source": [
    "Vol{Int}(3)"
   ]
  },
  {
   "cell_type": "markdown",
   "metadata": {},
   "source": [
    "Again, this is a pain and undesirable -- Julia should be able to infer the type for us.\n",
    "The solution is to analyse what we want Julia to do, and then tell Julia to do exactly that. \n",
    "\n",
    "We would like Julia to look at the type of the object `x` passed to the constructor - call it `T` - and automatically use the constructor *for `Vol{T}`*, passing `x` as an argument, as we just did in the explicit call.\n",
    "\n",
    "The syntax to do this looks strange at first (and second) glance:"
   ]
  },
  {
   "cell_type": "code",
   "execution_count": 40,
   "metadata": {
    "collapsed": false
   },
   "outputs": [
    {
     "data": {
      "text/plain": [
       "Vol{T<:Real}"
      ]
     },
     "execution_count": 40,
     "metadata": {},
     "output_type": "execute_result"
    }
   ],
   "source": [
    "Vol{T}(x::T) = Vol{T}(x)"
   ]
  },
  {
   "cell_type": "markdown",
   "metadata": {},
   "source": [
    "Now it works:"
   ]
  },
  {
   "cell_type": "code",
   "execution_count": 41,
   "metadata": {
    "collapsed": false
   },
   "outputs": [
    {
     "data": {
      "text/plain": [
       "Vol{Int64}(3)"
      ]
     },
     "execution_count": 41,
     "metadata": {},
     "output_type": "execute_result"
    }
   ],
   "source": [
    "Vol(3)"
   ]
  },
  {
   "cell_type": "code",
   "execution_count": 42,
   "metadata": {
    "collapsed": false
   },
   "outputs": [
    {
     "data": {
      "text/html": [
       "2 methods for generic function <b>Type</b>:<ul><li> (::<b>Type{Vol}</b>)<i>{T}</i>(x::<b>T</b>) at In[40]:1</li> <li> (::<b>Type{T}</b>)<i>{T}</i>(arg) at <a href=\"https://github.com/JuliaLang/julia/tree/3c9d75391c72d7c32eea75ff187ce77b2d5effc8/base/sysimg.jl#L53\" target=\"_blank\">sysimg.jl:53</a></li> </ul>"
      ],
      "text/plain": [
       "# 2 methods for generic function \"(::Type)\":\n",
       "(::Type{Vol}){T}(x::T) at In[40]:1\n",
       "(::Type{T}){T}(arg) at sysimg.jl:53"
      ]
     },
     "execution_count": 42,
     "metadata": {},
     "output_type": "execute_result"
    }
   ],
   "source": [
    "methods(Vol)"
   ]
  },
  {
   "cell_type": "markdown",
   "metadata": {},
   "source": [
    "What is going on here? We seem to almost be repeating ourselves, writing the same both on the left and right of the assignment operator `=`. Once again, we are telling Julia to treat `T` as a type parameter. However, the meaning of `{T}` is *different* on the two sides.\n",
    "\n",
    "- The left-hand side means: \"for **any** type `T`, define a function `Vol` that takes a parameter `x` *of type `T`*\".\n",
    "This can be thought of as a specification for a matching algorithm: look at the function call and see if it matches this template.\n",
    "\n",
    "\n",
    "- The assignment operator has its usual meaning: \"define the function on the left by the expression on the right\".\n",
    "\n",
    "\n",
    "- The right-hand side means: \"call the constructor `Vol{T}` with argument `x`\".\n",
    "\n",
    "The point is that by the time the right-hand side is evaluated, Julia has **already realised** what `T` must be, since the function definition is matched by a call to `Vol` with an argument `x` of *some* type `T`, which Julia infers (i.e., it chooses `T` to match the type of the object that was passed in)!\n",
    "\n",
    "The parametrised definition can be thought of as defining a \"potentially infinite\" number of different functions. One is instantiated, however, *only* if and when the function is actually called with an argument of that type."
   ]
  },
  {
   "cell_type": "markdown",
   "metadata": {},
   "source": [
    "Furthermore, Julia is sophisticated enough that we can make multiple definitions like this. For example, we may want to store all volumes that are integers as exact integers, but all floating-point volumes as `BigFloat`s. We can do this by making a special method for floats:"
   ]
  },
  {
   "cell_type": "code",
   "execution_count": 44,
   "metadata": {
    "collapsed": false
   },
   "outputs": [
    {
     "data": {
      "text/plain": [
       "Vol{T<:Real}"
      ]
     },
     "execution_count": 44,
     "metadata": {},
     "output_type": "execute_result"
    }
   ],
   "source": [
    "Vol{T<:AbstractFloat}(x::T) = Vol{BigFloat}(x)"
   ]
  },
  {
   "cell_type": "code",
   "execution_count": 45,
   "metadata": {
    "collapsed": false
   },
   "outputs": [
    {
     "data": {
      "text/plain": [
       "Vol{BigFloat}(3.500000000000000000000000000000000000000000000000000000000000000000000000000000)"
      ]
     },
     "execution_count": 45,
     "metadata": {},
     "output_type": "execute_result"
    }
   ],
   "source": [
    "Vol(3.5)"
   ]
  },
  {
   "cell_type": "markdown",
   "metadata": {},
   "source": [
    "Passing in integers does *not* match this new definition, and so still uses the previous definition:"
   ]
  },
  {
   "cell_type": "code",
   "execution_count": 46,
   "metadata": {
    "collapsed": false
   },
   "outputs": [
    {
     "data": {
      "text/plain": [
       "Vol{Int64}(3)"
      ]
     },
     "execution_count": 46,
     "metadata": {},
     "output_type": "execute_result"
    }
   ],
   "source": [
    "Vol(3)"
   ]
  },
  {
   "cell_type": "code",
   "execution_count": 47,
   "metadata": {
    "collapsed": false
   },
   "outputs": [
    {
     "data": {
      "text/html": [
       "3 methods for generic function <b>Type</b>:<ul><li> (::<b>Type{Vol}</b>)<i>{T<:AbstractFloat}</i>(x::<b>T</b>) at In[44]:1</li> <li> (::<b>Type{Vol}</b>)<i>{T}</i>(x::<b>T</b>) at In[40]:1</li> <li> (::<b>Type{T}</b>)<i>{T}</i>(arg) at <a href=\"https://github.com/JuliaLang/julia/tree/3c9d75391c72d7c32eea75ff187ce77b2d5effc8/base/sysimg.jl#L53\" target=\"_blank\">sysimg.jl:53</a></li> </ul>"
      ],
      "text/plain": [
       "# 3 methods for generic function \"(::Type)\":\n",
       "(::Type{Vol}){T<:AbstractFloat}(x::T) at In[44]:1\n",
       "(::Type{Vol}){T}(x::T) at In[40]:1\n",
       "(::Type{T}){T}(arg) at sysimg.jl:53"
      ]
     },
     "execution_count": 47,
     "metadata": {},
     "output_type": "execute_result"
    }
   ],
   "source": [
    "methods(Vol)"
   ]
  },
  {
   "cell_type": "markdown",
   "metadata": {},
   "source": [
    "This is *multiple dispatch** in action: when the generic function `Vol` is called, the correct method is called based on matching the type of the argument `T`."
   ]
  },
  {
   "cell_type": "markdown",
   "metadata": {},
   "source": [
    "## Arithmetic: functions on parametric types"
   ]
  },
  {
   "cell_type": "markdown",
   "metadata": {},
   "source": [
    "We would like to be able to do arithmetic on objects of our type: "
   ]
  },
  {
   "cell_type": "code",
   "execution_count": 48,
   "metadata": {
    "collapsed": false
   },
   "outputs": [
    {
     "data": {
      "text/plain": [
       "Vol{Int64}(4)"
      ]
     },
     "execution_count": 48,
     "metadata": {},
     "output_type": "execute_result"
    }
   ],
   "source": [
    "V1 = Vol(3)\n",
    "V2 = Vol(4)"
   ]
  },
  {
   "cell_type": "code",
   "execution_count": 49,
   "metadata": {
    "collapsed": false
   },
   "outputs": [
    {
     "ename": "LoadError",
     "evalue": "LoadError: MethodError: no method matching +(::Vol{Int64}, ::Vol{Int64})\nClosest candidates are:\n  +(::Any, ::Any, !Matched::Any, !Matched::Any...) at operators.jl:138\nwhile loading In[49], in expression starting on line 1",
     "output_type": "error",
     "traceback": [
      "LoadError: MethodError: no method matching +(::Vol{Int64}, ::Vol{Int64})\nClosest candidates are:\n  +(::Any, ::Any, !Matched::Any, !Matched::Any...) at operators.jl:138\nwhile loading In[49], in expression starting on line 1",
      ""
     ]
    }
   ],
   "source": [
    "V1 + V2"
   ]
  },
  {
   "cell_type": "markdown",
   "metadata": {},
   "source": [
    "Since we have not specified what `+` means for objects of our type, Julia does not know what to do, so we must explicitly define `+` for objects of our type.\n",
    "\n",
    "We may, for some reason, want to define the sum of volumes only if they contain objects of the same type. We can follow the idea and syntax discussed for the constructor:"
   ]
  },
  {
   "cell_type": "code",
   "execution_count": 51,
   "metadata": {
    "collapsed": false
   },
   "outputs": [
    {
     "data": {
      "text/plain": [
       "+ (generic function with 164 methods)"
      ]
     },
     "execution_count": 51,
     "metadata": {},
     "output_type": "execute_result"
    }
   ],
   "source": [
    "import Base.+\n",
    "\n",
    "+{T}(V1::Vol{T}, V2::Vol{T}) = Vol{T}(V1.value + V2.value)"
   ]
  },
  {
   "cell_type": "markdown",
   "metadata": {},
   "source": [
    "This looks a bit noisy, but we just have to parse it piece by piece: it is a method of `+`, that is parametric with one type parameter `T`, and whose arguments are `Vol`s parametrised by **the same** `T`. This is important, since it means that the definition **will not match** function calls with two different types. This is again an aspect of multiple dispatch. (Strictly speaking, the previous example was single dispatch, since a single argument was involved. Here it is multiple dispatch, since there are two arguments to the function.)\n",
    "\n",
    "Again, we can think of the `{T}` on the left as \"define a template function that works for any `T`, as follows\", and the `{T}` on the left is to refer to the parametric type `Vol{T}` with the `T` that has already been inferred (assigned) from the arguments `V1` and `V2`:"
   ]
  },
  {
   "cell_type": "code",
   "execution_count": 52,
   "metadata": {
    "collapsed": false
   },
   "outputs": [
    {
     "data": {
      "text/plain": [
       "Vol{Int64}(7)"
      ]
     },
     "execution_count": 52,
     "metadata": {},
     "output_type": "execute_result"
    }
   ],
   "source": [
    "V1 + V2"
   ]
  },
  {
   "cell_type": "markdown",
   "metadata": {},
   "source": [
    "Here, Julia examined `V1` and realised that it matches the definition when `T` is `Int64`."
   ]
  },
  {
   "cell_type": "markdown",
   "metadata": {},
   "source": [
    "However, this may be too restrictive; for example, we may wish to be able to add volumes with different integer types inside:"
   ]
  },
  {
   "cell_type": "code",
   "execution_count": 53,
   "metadata": {
    "collapsed": false
   },
   "outputs": [
    {
     "ename": "LoadError",
     "evalue": "LoadError: MethodError: no method matching +(::Vol{Int64}, ::Vol{BigInt})\nClosest candidates are:\n  +(::Any, ::Any, !Matched::Any, !Matched::Any...) at operators.jl:138\n  +{T}(::Vol{T}, !Matched::Vol{T}) at In[51]:3\nwhile loading In[53], in expression starting on line 1",
     "output_type": "error",
     "traceback": [
      "LoadError: MethodError: no method matching +(::Vol{Int64}, ::Vol{BigInt})\nClosest candidates are:\n  +(::Any, ::Any, !Matched::Any, !Matched::Any...) at operators.jl:138\n  +{T}(::Vol{T}, !Matched::Vol{T}) at In[51]:3\nwhile loading In[53], in expression starting on line 1",
      ""
     ]
    }
   ],
   "source": [
    "Vol{Int64}(1) + Vol{BigInt}(3)"
   ]
  },
  {
   "cell_type": "markdown",
   "metadata": {},
   "source": [
    "We can again define a more general method:"
   ]
  },
  {
   "cell_type": "code",
   "execution_count": 54,
   "metadata": {
    "collapsed": false
   },
   "outputs": [
    {
     "data": {
      "text/plain": [
       "+ (generic function with 165 methods)"
      ]
     },
     "execution_count": 54,
     "metadata": {},
     "output_type": "execute_result"
    }
   ],
   "source": [
    "+{T1<:Integer, T2<:Integer}(V1::Vol{T1}, V2::Vol{T2}) = Vol{promote_type(T1,T2)}(V1.value + V2.value)"
   ]
  },
  {
   "cell_type": "markdown",
   "metadata": {},
   "source": [
    "[We could have left out the type parameter on the right-hand side, but this leads to a method ambiguity warning, in which two different methods match the combination of argument types, in this case when we have two equal integer types.]\n",
    "\n",
    "Here, we have *two* type parameters that are both subtypes of (`<:` again) the abstract `Integer` type, and `promote_type(T,S)` is a function from `Base` that determines the smallest supertype of both `T` and `S` that is able to correctly represent values of both types. "
   ]
  },
  {
   "cell_type": "code",
   "execution_count": 55,
   "metadata": {
    "collapsed": false
   },
   "outputs": [
    {
     "data": {
      "text/plain": [
       "Vol{BigInt}(4)"
      ]
     },
     "execution_count": 55,
     "metadata": {},
     "output_type": "execute_result"
    }
   ],
   "source": [
    "Vol{Int64}(1) + Vol{BigInt}(3)"
   ]
  },
  {
   "cell_type": "code",
   "execution_count": 56,
   "metadata": {
    "collapsed": false
   },
   "outputs": [
    {
     "ename": "LoadError",
     "evalue": "LoadError: MethodError: no method matching +(::Vol{Float64}, ::Vol{BigFloat})\nClosest candidates are:\n  +(::Any, ::Any, !Matched::Any, !Matched::Any...) at operators.jl:138\n  +{T}(::Vol{T}, !Matched::Vol{T}) at In[51]:3\nwhile loading In[56], in expression starting on line 1",
     "output_type": "error",
     "traceback": [
      "LoadError: MethodError: no method matching +(::Vol{Float64}, ::Vol{BigFloat})\nClosest candidates are:\n  +(::Any, ::Any, !Matched::Any, !Matched::Any...) at operators.jl:138\n  +{T}(::Vol{T}, !Matched::Vol{T}) at In[51]:3\nwhile loading In[56], in expression starting on line 1",
      ""
     ]
    }
   ],
   "source": [
    "Vol{Float64}(1) + Vol{BigFloat}(3)"
   ]
  },
  {
   "cell_type": "markdown",
   "metadata": {},
   "source": [
    "Note that sometimes such a redefinition will apparently not work, since the previous definition, *even if it threw an error*, will be cached by Julia. In this case, it will be necessary to clear the workspace first and redefine everything. This can soon become tiresome and may be partially solved by moving the definitions out into a file, and `include`ing the file after calling `workspace()` to define the types. This kind of workflow discussion is best decided in practice. [In a future version of Julia, this caching of previous definitions will no longer apply; redefining a method will redefine all methods that depend on it.]"
   ]
  },
  {
   "cell_type": "markdown",
   "metadata": {},
   "source": [
    "## Adding more parameters "
   ]
  },
  {
   "cell_type": "markdown",
   "metadata": {},
   "source": [
    "Types may be parametrized by more than one parameter. In the case of volumes, we should not be able to \"add\" a 1-dimensional volume (length) to a 2-dimensional one (area), since this makes no sense physically or mathematically; on the other hand, we can multiply them to get a 3-dimensional volume. We thus need to add an integer parameter to the `Vol` type:"
   ]
  },
  {
   "cell_type": "code",
   "execution_count": 68,
   "metadata": {
    "collapsed": true
   },
   "outputs": [],
   "source": [
    "workspace()"
   ]
  },
  {
   "cell_type": "code",
   "execution_count": 69,
   "metadata": {
    "collapsed": false
   },
   "outputs": [],
   "source": [
    "immutable Vol{N, T<:Real}\n",
    "    value::T   \n",
    "end"
   ]
  },
  {
   "cell_type": "markdown",
   "metadata": {},
   "source": [
    "Again, a default constructor is created, but now we must explicitly specify the types, since the type `N` cannot be inferred from the argument:"
   ]
  },
  {
   "cell_type": "code",
   "execution_count": 70,
   "metadata": {
    "code_folding": [],
    "collapsed": false
   },
   "outputs": [
    {
     "data": {
      "text/plain": [
       "Vol{3,Float64}(3.0)"
      ]
     },
     "execution_count": 70,
     "metadata": {},
     "output_type": "execute_result"
    }
   ],
   "source": [
    "Vol{3, Float64}(3)"
   ]
  },
  {
   "cell_type": "markdown",
   "metadata": {},
   "source": [
    "represents a three-dimensional volume of magnitude 3."
   ]
  },
  {
   "cell_type": "markdown",
   "metadata": {},
   "source": [
    "We wish to define the sum *only* when the dimensions are the same:"
   ]
  },
  {
   "cell_type": "code",
   "execution_count": 71,
   "metadata": {
    "collapsed": false
   },
   "outputs": [
    {
     "data": {
      "text/plain": [
       "+ (generic function with 166 methods)"
      ]
     },
     "execution_count": 71,
     "metadata": {},
     "output_type": "execute_result"
    }
   ],
   "source": [
    "import Base.+\n",
    "\n",
    "+{N,T}(V1::Vol{N,T}, V2::Vol{N,T}) = Vol{N,T}(V1.value + V2.value)"
   ]
  },
  {
   "cell_type": "markdown",
   "metadata": {},
   "source": [
    "This will match only when both arguments have the same parameters `T` and `N`. We could also promote the types:"
   ]
  },
  {
   "cell_type": "code",
   "execution_count": 72,
   "metadata": {
    "collapsed": false
   },
   "outputs": [
    {
     "data": {
      "text/plain": [
       "+ (generic function with 167 methods)"
      ]
     },
     "execution_count": 72,
     "metadata": {},
     "output_type": "execute_result"
    }
   ],
   "source": [
    "+{N,T1,T2}(V1::Vol{N,T1}, V2::Vol{N,T2}) = Vol{N,promote_type(T1,T2)}(V1.value + V2.value)"
   ]
  },
  {
   "cell_type": "markdown",
   "metadata": {},
   "source": [
    "We make a useful outer constructor that can infer the type of its argument, but still needs an explicit dimension:"
   ]
  },
  {
   "cell_type": "code",
   "execution_count": 73,
   "metadata": {
    "collapsed": false
   },
   "outputs": [
    {
     "data": {
      "text/plain": [
       "Vol{N,T<:Real}"
      ]
     },
     "execution_count": 73,
     "metadata": {},
     "output_type": "execute_result"
    }
   ],
   "source": [
    "Vol{T}(N, x::T) = Vol{N,T}(x)"
   ]
  },
  {
   "cell_type": "code",
   "execution_count": 74,
   "metadata": {
    "collapsed": false
   },
   "outputs": [
    {
     "data": {
      "text/plain": [
       "Vol{3,Float64}(4.5)"
      ]
     },
     "execution_count": 74,
     "metadata": {},
     "output_type": "execute_result"
    }
   ],
   "source": [
    "Vol(3, 4.5)"
   ]
  },
  {
   "cell_type": "markdown",
   "metadata": {},
   "source": [
    "We would also like to display objects in a nicer way:"
   ]
  },
  {
   "cell_type": "code",
   "execution_count": 75,
   "metadata": {
    "collapsed": false
   },
   "outputs": [
    {
     "data": {
      "text/plain": [
       "show (generic function with 213 methods)"
      ]
     },
     "execution_count": 75,
     "metadata": {},
     "output_type": "execute_result"
    }
   ],
   "source": [
    "import Base.show\n",
    "show{N,T}(io::IO, x::Vol{N,T}) = print(io, N, \"-dimensional volume with magnitude \", x.value)"
   ]
  },
  {
   "cell_type": "code",
   "execution_count": 76,
   "metadata": {
    "collapsed": false
   },
   "outputs": [
    {
     "data": {
      "text/plain": [
       "2-dimensional volume with magnitude 3.0"
      ]
     },
     "execution_count": 76,
     "metadata": {},
     "output_type": "execute_result"
    }
   ],
   "source": [
    "A = Vol(2, 3.0)   # volume of dimension 2 with value 3.0"
   ]
  },
  {
   "cell_type": "code",
   "execution_count": 77,
   "metadata": {
    "collapsed": false
   },
   "outputs": [
    {
     "data": {
      "text/plain": [
       "1-dimensional volume with magnitude 10.0"
      ]
     },
     "execution_count": 77,
     "metadata": {},
     "output_type": "execute_result"
    }
   ],
   "source": [
    "ℓ = Vol(1, 10.0)  # write as \\ell<TAB>"
   ]
  },
  {
   "cell_type": "code",
   "execution_count": 78,
   "metadata": {
    "collapsed": false
   },
   "outputs": [
    {
     "ename": "LoadError",
     "evalue": "LoadError: MethodError: no method matching +(::Vol{2,Float64}, ::Vol{1,Float64})\nClosest candidates are:\n  +(::Any, ::Any, !Matched::Any, !Matched::Any...) at operators.jl:138\n  +{N,T}(::Vol{N,T}, !Matched::Vol{N,T}) at In[71]:3\n  +{N,T1,T2}(::Vol{N,T1}, !Matched::Vol{N,T2}) at In[72]:1\nwhile loading In[78], in expression starting on line 1",
     "output_type": "error",
     "traceback": [
      "LoadError: MethodError: no method matching +(::Vol{2,Float64}, ::Vol{1,Float64})\nClosest candidates are:\n  +(::Any, ::Any, !Matched::Any, !Matched::Any...) at operators.jl:138\n  +{N,T}(::Vol{N,T}, !Matched::Vol{N,T}) at In[71]:3\n  +{N,T1,T2}(::Vol{N,T1}, !Matched::Vol{N,T2}) at In[72]:1\nwhile loading In[78], in expression starting on line 1",
      ""
     ]
    }
   ],
   "source": [
    "A + ℓ"
   ]
  },
  {
   "cell_type": "markdown",
   "metadata": {},
   "source": [
    "It is not nice for the user to throw this slightly cryptic error message. We can provide a better error message when volumes of different dimension are added; we should check that volumes of the same dimension *still works*. Such things should be codified in unit test suites."
   ]
  },
  {
   "cell_type": "code",
   "execution_count": 79,
   "metadata": {
    "collapsed": true
   },
   "outputs": [],
   "source": [
    "workspace()"
   ]
  },
  {
   "cell_type": "code",
   "execution_count": 80,
   "metadata": {
    "collapsed": false
   },
   "outputs": [
    {
     "data": {
      "text/plain": [
       "+ (generic function with 169 methods)"
      ]
     },
     "execution_count": 80,
     "metadata": {},
     "output_type": "execute_result"
    }
   ],
   "source": [
    "immutable Vol{N,T<:Real}\n",
    "    value::T   \n",
    "end\n",
    "\n",
    "Vol{T}(N, x::T) = Vol{N,T}(x)\n",
    "\n",
    "import Base.+\n",
    "\n",
    "+{N,T}(V1::Vol{N,T}, V2::Vol{N,T}) = Vol{N,T}(V1.value + V2.value)\n",
    "+{N1,N2,T}(V1::Vol{N1,T}, V2::Vol{N2,T}) = throw(ArgumentError(\"Volumes of different dimension cannot be added\"))"
   ]
  },
  {
   "cell_type": "code",
   "execution_count": 81,
   "metadata": {
    "collapsed": false
   },
   "outputs": [
    {
     "data": {
      "text/plain": [
       "Vol{3,Int64}(7)"
      ]
     },
     "execution_count": 81,
     "metadata": {},
     "output_type": "execute_result"
    }
   ],
   "source": [
    "V1 = Vol(3, 3)\n",
    "V2 = Vol(3, 4)\n",
    "V1 + V2"
   ]
  },
  {
   "cell_type": "code",
   "execution_count": 82,
   "metadata": {
    "collapsed": false
   },
   "outputs": [
    {
     "ename": "LoadError",
     "evalue": "LoadError: ArgumentError: Volumes of different dimension cannot be added\nwhile loading In[82], in expression starting on line 1",
     "output_type": "error",
     "traceback": [
      "LoadError: ArgumentError: Volumes of different dimension cannot be added\nwhile loading In[82], in expression starting on line 1",
      "",
      " in +(::Vol{3,Int64}, ::Vol{2,Int64}) at In[80]:10"
     ]
    }
   ],
   "source": [
    "Vol(3, 3) + Vol(2, 4)"
   ]
  },
  {
   "cell_type": "markdown",
   "metadata": {},
   "source": [
    "**Exercise**\n",
    "Define the product (`*`) of any two objects of type `Vol`."
   ]
  },
  {
   "cell_type": "markdown",
   "metadata": {},
   "source": [
    "## Conversion"
   ]
  },
  {
   "cell_type": "markdown",
   "metadata": {},
   "source": [
    "We may want to define functions like `sin` that act on objects of our new type.\n",
    "[We may *not* want to define such functions, on the other hand, since we could argue that a `Vol` is not a real number, but rather is a combination of a real number together with a dimension.]\n",
    "Let's try it:"
   ]
  },
  {
   "cell_type": "code",
   "execution_count": 109,
   "metadata": {
    "collapsed": false
   },
   "outputs": [
    {
     "data": {
      "text/plain": [
       "Vol{3,Int64}(3)"
      ]
     },
     "execution_count": 109,
     "metadata": {},
     "output_type": "execute_result"
    }
   ],
   "source": [
    "V1"
   ]
  },
  {
   "cell_type": "code",
   "execution_count": 110,
   "metadata": {
    "collapsed": false
   },
   "outputs": [
    {
     "ename": "LoadError",
     "evalue": "LoadError: MethodError: `sin` has no method matching sin(::Vol{3,Int64})\nwhile loading In[110], in expression starting on line 1",
     "output_type": "error",
     "traceback": [
      "LoadError: MethodError: `sin` has no method matching sin(::Vol{3,Int64})\nwhile loading In[110], in expression starting on line 1",
      ""
     ]
    }
   ],
   "source": [
    "sin(V1)"
   ]
  },
  {
   "cell_type": "markdown",
   "metadata": {},
   "source": [
    "Of course, Julia doesn't know how to do this, since we haven't defined it.\n",
    "However, an object of type `Vol` is just a simple wrapper around a number, so we could just say"
   ]
  },
  {
   "cell_type": "code",
   "execution_count": 83,
   "metadata": {
    "collapsed": false
   },
   "outputs": [
    {
     "data": {
      "text/plain": [
       "sin (generic function with 11 methods)"
      ]
     },
     "execution_count": 83,
     "metadata": {},
     "output_type": "execute_result"
    }
   ],
   "source": [
    "import Base.sin\n",
    "sin(x::Vol) = sin(x.value)"
   ]
  },
  {
   "cell_type": "code",
   "execution_count": 84,
   "metadata": {
    "collapsed": false
   },
   "outputs": [
    {
     "data": {
      "text/plain": [
       "0.1411200080598672"
      ]
     },
     "execution_count": 84,
     "metadata": {},
     "output_type": "execute_result"
    }
   ],
   "source": [
    "sin(V1)"
   ]
  },
  {
   "cell_type": "markdown",
   "metadata": {},
   "source": [
    "It is painful, boring and error-prone to do this for every function (although this may be done using metaprogramming). An alternative is to tell Julia explicitly that a `Vol` is actually a kind of real number, i.e. a subtype of `Real`.\n",
    "\n",
    "Note that although this is not mathematically correct, it is a convenience to simplify the code.\n",
    "\n",
    "[Future versions of Julia are slated to include **traits** (also called **interfaces**) to allow this behavior without pretending that types are subsets of other types."
   ]
  },
  {
   "cell_type": "code",
   "execution_count": 85,
   "metadata": {
    "collapsed": true
   },
   "outputs": [],
   "source": [
    "workspace()"
   ]
  },
  {
   "cell_type": "code",
   "execution_count": 86,
   "metadata": {
    "collapsed": false
   },
   "outputs": [],
   "source": [
    "immutable Vol{N,T<:Real} <: Real\n",
    "    value::T   \n",
    "end"
   ]
  },
  {
   "cell_type": "code",
   "execution_count": 87,
   "metadata": {
    "collapsed": false
   },
   "outputs": [
    {
     "data": {
      "text/plain": [
       "Vol{3,Float64}(3.0)"
      ]
     },
     "execution_count": 87,
     "metadata": {},
     "output_type": "execute_result"
    }
   ],
   "source": [
    "V = Vol{3,Float64}(3)"
   ]
  },
  {
   "cell_type": "code",
   "execution_count": 88,
   "metadata": {
    "collapsed": false
   },
   "outputs": [
    {
     "ename": "LoadError",
     "evalue": "LoadError: MethodError: Cannot `convert` an object of type Vol{3,Float64} to an object of type AbstractFloat\nThis may have arisen from a call to the constructor AbstractFloat(...),\nsince type constructors fall back to convert methods.\nwhile loading In[88], in expression starting on line 1",
     "output_type": "error",
     "traceback": [
      "LoadError: MethodError: Cannot `convert` an object of type Vol{3,Float64} to an object of type AbstractFloat\nThis may have arisen from a call to the constructor AbstractFloat(...),\nsince type constructors fall back to convert methods.\nwhile loading In[88], in expression starting on line 1",
      "",
      " in sin(::Vol{3,Float64}) at math.jl:204"
     ]
    }
   ],
   "source": [
    "sin(V)"
   ]
  },
  {
   "cell_type": "markdown",
   "metadata": {},
   "source": [
    "We now get a different error. We can see which method Julia is now using:"
   ]
  },
  {
   "cell_type": "code",
   "execution_count": 89,
   "metadata": {
    "collapsed": false
   },
   "outputs": [
    {
     "data": {
      "text/html": [
       "sin(x::<b>Real</b>) at <a href=\"https://github.com/JuliaLang/julia/tree/3c9d75391c72d7c32eea75ff187ce77b2d5effc8/base/math.jl#L204\" target=\"_blank\">math.jl:204</a>"
      ],
      "text/plain": [
       "sin(x::Real) at math.jl:204"
      ]
     },
     "execution_count": 89,
     "metadata": {},
     "output_type": "execute_result"
    }
   ],
   "source": [
    "@which sin(V)"
   ]
  },
  {
   "cell_type": "markdown",
   "metadata": {},
   "source": [
    "This is a generic \"fallback\" (\"catch-all\") method, which is called when no more specialised method has been defined."
   ]
  },
  {
   "cell_type": "markdown",
   "metadata": {},
   "source": [
    "Following the link to the Julia source code, which is written in Julia and therefore amazingly understandable (with some work), and if we understand some metaprogramming, we find that the definition of `sin(x::Real)` is\n",
    "\n",
    "    sin(x::Real) = sin(float(x))"
   ]
  },
  {
   "cell_type": "markdown",
   "metadata": {},
   "source": [
    "We could just define `float` for our type, which is supposed to convert an object to it's most natural floating-point equivalent:"
   ]
  },
  {
   "cell_type": "code",
   "execution_count": 90,
   "metadata": {
    "collapsed": true
   },
   "outputs": [],
   "source": [
    "workspace()"
   ]
  },
  {
   "cell_type": "code",
   "execution_count": 91,
   "metadata": {
    "collapsed": false
   },
   "outputs": [
    {
     "data": {
      "text/plain": [
       "float (generic function with 17 methods)"
      ]
     },
     "execution_count": 91,
     "metadata": {},
     "output_type": "execute_result"
    }
   ],
   "source": [
    "immutable Vol{N,T<:Real} <: Real\n",
    "    value::T   \n",
    "end\n",
    "\n",
    "import Base.float\n",
    "float(V::Vol) = float(V.value)"
   ]
  },
  {
   "cell_type": "code",
   "execution_count": 92,
   "metadata": {
    "collapsed": false
   },
   "outputs": [
    {
     "data": {
      "text/plain": [
       "0.1411200080598672"
      ]
     },
     "execution_count": 92,
     "metadata": {},
     "output_type": "execute_result"
    }
   ],
   "source": [
    "V = Vol{3,Float64}(3)\n",
    "sin(V)"
   ]
  },
  {
   "cell_type": "markdown",
   "metadata": {},
   "source": [
    "However, in fact `float` is already defined for *any* `x::Real`:"
   ]
  },
  {
   "cell_type": "code",
   "execution_count": 93,
   "metadata": {
    "collapsed": true
   },
   "outputs": [],
   "source": [
    "workspace()"
   ]
  },
  {
   "cell_type": "code",
   "execution_count": 94,
   "metadata": {
    "collapsed": true
   },
   "outputs": [],
   "source": [
    "immutable Vol{N,T<:Real} <: Real\n",
    "    value::T   \n",
    "end"
   ]
  },
  {
   "cell_type": "code",
   "execution_count": 95,
   "metadata": {
    "collapsed": false
   },
   "outputs": [
    {
     "data": {
      "text/plain": [
       "Vol{3,Float64}(3.0)"
      ]
     },
     "execution_count": 95,
     "metadata": {},
     "output_type": "execute_result"
    }
   ],
   "source": [
    "V = Vol{3,Float64}(3)"
   ]
  },
  {
   "cell_type": "code",
   "execution_count": 96,
   "metadata": {
    "collapsed": false
   },
   "outputs": [
    {
     "data": {
      "text/html": [
       "float(x) at <a href=\"https://github.com/JuliaLang/julia/tree/3c9d75391c72d7c32eea75ff187ce77b2d5effc8/base/float.jl#L152\" target=\"_blank\">float.jl:152</a>"
      ],
      "text/plain": [
       "float(x) at float.jl:152"
      ]
     },
     "execution_count": 96,
     "metadata": {},
     "output_type": "execute_result"
    }
   ],
   "source": [
    "@which float(V)"
   ]
  },
  {
   "cell_type": "code",
   "execution_count": 97,
   "metadata": {
    "collapsed": false
   },
   "outputs": [
    {
     "data": {
      "text/plain": [
       "3.0"
      ]
     },
     "execution_count": 97,
     "metadata": {},
     "output_type": "execute_result"
    }
   ],
   "source": [
    "float(3)"
   ]
  },
  {
   "cell_type": "markdown",
   "metadata": {},
   "source": [
    "The definition reads:\n",
    "\n",
    "    float(x) = convert(AbstractFloat, x)"
   ]
  },
  {
   "cell_type": "markdown",
   "metadata": {},
   "source": [
    "Finally, we see that rather we need to investigate Julia's capabilities for [conversion and promotion](http://docs.julialang.org/en/release-0.4/manual/conversion-and-promotion/) and define how to `convert` an object of our type into a float:"
   ]
  },
  {
   "cell_type": "code",
   "execution_count": 98,
   "metadata": {
    "collapsed": false
   },
   "outputs": [
    {
     "data": {
      "text/plain": [
       "convert (generic function with 600 methods)"
      ]
     },
     "execution_count": 98,
     "metadata": {},
     "output_type": "execute_result"
    }
   ],
   "source": [
    "import Base.convert\n",
    "convert(::Type{AbstractFloat}, x::Vol) = float(x.value)"
   ]
  },
  {
   "cell_type": "code",
   "execution_count": 99,
   "metadata": {
    "collapsed": false
   },
   "outputs": [
    {
     "data": {
      "text/plain": [
       "3.0"
      ]
     },
     "execution_count": 99,
     "metadata": {},
     "output_type": "execute_result"
    }
   ],
   "source": [
    "convert(AbstractFloat, V)"
   ]
  },
  {
   "cell_type": "markdown",
   "metadata": {},
   "source": [
    "Now any standard unary function works:"
   ]
  },
  {
   "cell_type": "code",
   "execution_count": 101,
   "metadata": {
    "collapsed": false
   },
   "outputs": [
    {
     "data": {
      "text/plain": [
       "(0.1411200080598672,-0.9899924966004454,20.085536923187668)"
      ]
     },
     "execution_count": 101,
     "metadata": {},
     "output_type": "execute_result"
    }
   ],
   "source": [
    "sin(V), cos(V), exp(V)"
   ]
  },
  {
   "cell_type": "markdown",
   "metadata": {},
   "source": [
    "`::Type{AbstractFloat}` refers to an argument which has type \"type of `AbstractFloat`\"; the only object that has that type is `AbstractFloat` itself; this thus matches function calls of the form \n",
    "\n",
    "    convert(AbstractFloat, V)"
   ]
  },
  {
   "cell_type": "markdown",
   "metadata": {},
   "source": [
    "## Promotion "
   ]
  },
  {
   "cell_type": "markdown",
   "metadata": {},
   "source": [
    "In the case of `Vol`, it is not natural to define all arithmetic operations, so let's simplify even further and just wrap a `Float64` in a `Prob` type, representing a probability. [We will assume that it makes sense to define all arithmetic operations here, although in a given application that may not be the case.]"
   ]
  },
  {
   "cell_type": "code",
   "execution_count": null,
   "metadata": {
    "collapsed": true
   },
   "outputs": [],
   "source": [
    "workspace()"
   ]
  },
  {
   "cell_type": "code",
   "execution_count": 102,
   "metadata": {
    "collapsed": false
   },
   "outputs": [
    {
     "data": {
      "text/plain": [
       "Prob{T<:AbstractFloat}"
      ]
     },
     "execution_count": 102,
     "metadata": {},
     "output_type": "execute_result"
    }
   ],
   "source": [
    "immutable Prob{T<:AbstractFloat} <: Real\n",
    "    _::T  # dummy name\n",
    "    \n",
    "    function Prob(x)\n",
    "        (!(0 <= x <= 1)) && throw(ArgumentError(\"Probability must be between 0 and 1.\"))\n",
    "        \n",
    "        new(x)\n",
    "    end\n",
    "end\n",
    "\n",
    "Prob{T<:AbstractFloat}(x::T) = Prob{T}(x)"
   ]
  },
  {
   "cell_type": "markdown",
   "metadata": {},
   "source": [
    "[Note that `_` is a valid variable name in Julia, and is often used for a variable whose name we don't care about.]"
   ]
  },
  {
   "cell_type": "code",
   "execution_count": 103,
   "metadata": {
    "collapsed": false
   },
   "outputs": [
    {
     "data": {
      "text/plain": [
       "Prob{Float64}(0.5)"
      ]
     },
     "execution_count": 103,
     "metadata": {},
     "output_type": "execute_result"
    }
   ],
   "source": [
    "x = Prob(0.5)"
   ]
  },
  {
   "cell_type": "markdown",
   "metadata": {},
   "source": [
    "We see that multiplying `x` by a real number does not give a `MethodError`:"
   ]
  },
  {
   "cell_type": "code",
   "execution_count": 104,
   "metadata": {
    "collapsed": false
   },
   "outputs": [
    {
     "ename": "LoadError",
     "evalue": "LoadError: no promotion exists for Int64 and Prob{Float64}\nwhile loading In[104], in expression starting on line 1",
     "output_type": "error",
     "traceback": [
      "LoadError: no promotion exists for Int64 and Prob{Float64}\nwhile loading In[104], in expression starting on line 1",
      "",
      " in promote(::Int64, ::Prob{Float64}) at promotion.jl:153",
      " in *(::Int64, ::Prob{Float64}) at promotion.jl:191"
     ]
    }
   ],
   "source": [
    "3x"
   ]
  },
  {
   "cell_type": "markdown",
   "metadata": {},
   "source": [
    "since a `Vol` is a subtype of `Number`. \n",
    "\n",
    "Rather, Julia is trying to use its promotion machinery, in which such operations are handled by **promoting** both arguments to the same type:"
   ]
  },
  {
   "cell_type": "code",
   "execution_count": 105,
   "metadata": {
    "collapsed": false
   },
   "outputs": [
    {
     "data": {
      "text/html": [
       "*(x::<b>Number</b>, y::<b>Number</b>) at <a href=\"https://github.com/JuliaLang/julia/tree/3c9d75391c72d7c32eea75ff187ce77b2d5effc8/base/promotion.jl#L191\" target=\"_blank\">promotion.jl:191</a>"
      ],
      "text/plain": [
       "*(x::Number, y::Number) at promotion.jl:191"
      ]
     },
     "execution_count": 105,
     "metadata": {},
     "output_type": "execute_result"
    }
   ],
   "source": [
    "@which 3x"
   ]
  },
  {
   "cell_type": "markdown",
   "metadata": {},
   "source": [
    "We can see the process using `@which` (or using the debugger in Julia v0.5):"
   ]
  },
  {
   "cell_type": "code",
   "execution_count": 106,
   "metadata": {
    "collapsed": false
   },
   "outputs": [
    {
     "data": {
      "text/html": [
       "promote<i>{T,S}</i>(x::<b>T</b>, y::<b>S</b>) at <a href=\"https://github.com/JuliaLang/julia/tree/3c9d75391c72d7c32eea75ff187ce77b2d5effc8/base/promotion.jl#L153\" target=\"_blank\">promotion.jl:153</a>"
      ],
      "text/plain": [
       "promote{T,S}(x::T, y::S) at promotion.jl:153"
      ]
     },
     "execution_count": 106,
     "metadata": {},
     "output_type": "execute_result"
    }
   ],
   "source": [
    "@which promote(3, x)"
   ]
  },
  {
   "cell_type": "code",
   "execution_count": 107,
   "metadata": {
    "collapsed": false
   },
   "outputs": [
    {
     "data": {
      "text/html": [
       "promote_type<i>{T,S}</i>(::<b>Type{T}</b>, ::<b>Type{S}</b>) at <a href=\"https://github.com/JuliaLang/julia/tree/3c9d75391c72d7c32eea75ff187ce77b2d5effc8/base/promotion.jl#L139\" target=\"_blank\">promotion.jl:139</a>"
      ],
      "text/plain": [
       "promote_type{T,S}(::Type{T}, ::Type{S}) at promotion.jl:139"
      ]
     },
     "execution_count": 107,
     "metadata": {},
     "output_type": "execute_result"
    }
   ],
   "source": [
    "@which promote_type(Int, Prob{Float64})"
   ]
  },
  {
   "cell_type": "markdown",
   "metadata": {},
   "source": [
    "which is defined in terms of `promote_rule(T,S)`, e.g."
   ]
  },
  {
   "cell_type": "code",
   "execution_count": 108,
   "metadata": {
    "collapsed": false
   },
   "outputs": [
    {
     "data": {
      "text/html": [
       "promote_rule(::<b>Type{Float64}</b>, ::<b>Type{Int64}</b>) at <a href=\"https://github.com/JuliaLang/julia/tree/3c9d75391c72d7c32eea75ff187ce77b2d5effc8/base/float.jl#L56\" target=\"_blank\">float.jl:56</a>"
      ],
      "text/plain": [
       "promote_rule(::Type{Float64}, ::Type{Int64}) at float.jl:56"
      ]
     },
     "execution_count": 108,
     "metadata": {},
     "output_type": "execute_result"
    }
   ],
   "source": [
    "@which promote_rule(Float64, Int)"
   ]
  },
  {
   "cell_type": "markdown",
   "metadata": {},
   "source": [
    "So if we want to have promotion work, we need to define `promote_rule`:"
   ]
  },
  {
   "cell_type": "code",
   "execution_count": 109,
   "metadata": {
    "collapsed": true
   },
   "outputs": [],
   "source": [
    "workspace()"
   ]
  },
  {
   "cell_type": "code",
   "execution_count": 110,
   "metadata": {
    "collapsed": false
   },
   "outputs": [
    {
     "name": "stderr",
     "output_type": "stream",
     "text": [
      "WARNING: Method definition (::Type{Main.Prob})(#T<:AbstractFloat) in module Main at In[110]:2 overwritten at In[110]:5.\n"
     ]
    },
    {
     "data": {
      "text/plain": [
       "* (generic function with 150 methods)"
      ]
     },
     "execution_count": 110,
     "metadata": {},
     "output_type": "execute_result"
    }
   ],
   "source": [
    "immutable Prob{T<:AbstractFloat} <: Real\n",
    "    value::T\n",
    "end\n",
    "\n",
    "Prob{T<:AbstractFloat}(x::T) = Prob{T}(x)\n",
    "\n",
    "import Base.*\n",
    "*{T<:AbstractFloat}(x::Prob{T}, y::Prob{T}) = Prob{T}(x.value*y.value)"
   ]
  },
  {
   "cell_type": "code",
   "execution_count": 111,
   "metadata": {
    "collapsed": false
   },
   "outputs": [
    {
     "data": {
      "text/plain": [
       "Prob{Float64}(0.12)"
      ]
     },
     "execution_count": 111,
     "metadata": {},
     "output_type": "execute_result"
    }
   ],
   "source": [
    "p1 = Prob(0.3)\n",
    "p2 = Prob(0.4)\n",
    "p1 * p2"
   ]
  },
  {
   "cell_type": "code",
   "execution_count": 112,
   "metadata": {
    "collapsed": false
   },
   "outputs": [
    {
     "ename": "LoadError",
     "evalue": "LoadError: no promotion exists for Float64 and Prob{Float64}\nwhile loading In[112], in expression starting on line 1",
     "output_type": "error",
     "traceback": [
      "LoadError: no promotion exists for Float64 and Prob{Float64}\nwhile loading In[112], in expression starting on line 1",
      "",
      " in promote(::Float64, ::Prob{Float64}) at promotion.jl:153",
      " in *(::Float64, ::Prob{Float64}) at promotion.jl:191"
     ]
    }
   ],
   "source": [
    "0.3 * p2"
   ]
  },
  {
   "cell_type": "code",
   "execution_count": 113,
   "metadata": {
    "collapsed": false
   },
   "outputs": [
    {
     "data": {
      "text/plain": [
       "convert (generic function with 602 methods)"
      ]
     },
     "execution_count": 113,
     "metadata": {},
     "output_type": "execute_result"
    }
   ],
   "source": [
    "import Base: promote_rule, convert\n",
    "\n",
    "promote_rule{S<:Real, T<:Real}(::Type{Prob{T}}, ::Type{S}) = Prob{promote_type(S, T)}\n",
    "\n",
    "convert{S<:Real, T<:Real}(::Type{Prob{T}}, x::S) = Prob(float(x))\n",
    "convert{T<:Real}(::Type{AbstractFloat}, x::Prob{T}) = x.value\n"
   ]
  },
  {
   "cell_type": "code",
   "execution_count": 114,
   "metadata": {
    "collapsed": false
   },
   "outputs": [
    {
     "data": {
      "text/plain": [
       "Prob{Float64}(0.5)"
      ]
     },
     "execution_count": 114,
     "metadata": {},
     "output_type": "execute_result"
    }
   ],
   "source": [
    "x = Prob(0.5)\n"
   ]
  },
  {
   "cell_type": "code",
   "execution_count": 115,
   "metadata": {
    "collapsed": false
   },
   "outputs": [
    {
     "data": {
      "text/plain": [
       "Prob{Float64}(1.5)"
      ]
     },
     "execution_count": 115,
     "metadata": {},
     "output_type": "execute_result"
    }
   ],
   "source": [
    "3x"
   ]
  },
  {
   "cell_type": "code",
   "execution_count": 116,
   "metadata": {
    "collapsed": false
   },
   "outputs": [
    {
     "data": {
      "text/plain": [
       "(Prob{Float64}(3.0),Prob{Float64}(0.5))"
      ]
     },
     "execution_count": 116,
     "metadata": {},
     "output_type": "execute_result"
    }
   ],
   "source": [
    "promote(3, x)"
   ]
  },
  {
   "cell_type": "markdown",
   "metadata": {},
   "source": [
    "These rules are always tricky to get right!"
   ]
  },
  {
   "cell_type": "markdown",
   "metadata": {},
   "source": [
    "## `Vector`s of objects of parametric type"
   ]
  },
  {
   "cell_type": "markdown",
   "metadata": {},
   "source": [
    "Suppose we make a vector of rationals, which is a parametric type"
   ]
  },
  {
   "cell_type": "code",
   "execution_count": 117,
   "metadata": {
    "collapsed": false
   },
   "outputs": [
    {
     "data": {
      "text/plain": [
       "2-element Array{Rational{Int64},1}:\n",
       " 3//4\n",
       " 4//5"
      ]
     },
     "execution_count": 117,
     "metadata": {},
     "output_type": "execute_result"
    }
   ],
   "source": [
    "v = [3//4, 4//5]"
   ]
  },
  {
   "cell_type": "code",
   "execution_count": 118,
   "metadata": {
    "collapsed": false
   },
   "outputs": [
    {
     "data": {
      "text/plain": [
       "Array{Rational{Int64},1}"
      ]
     },
     "execution_count": 118,
     "metadata": {},
     "output_type": "execute_result"
    }
   ],
   "source": [
    "typeof(v)"
   ]
  },
  {
   "cell_type": "markdown",
   "metadata": {},
   "source": [
    "A **typealias**, that is, an alternative (shorter and/or more intuitive) name for the type `Array{T,1}` is `Vector{T}`:"
   ]
  },
  {
   "cell_type": "code",
   "execution_count": 119,
   "metadata": {
    "collapsed": false
   },
   "outputs": [
    {
     "data": {
      "text/plain": [
       "true"
      ]
     },
     "execution_count": 119,
     "metadata": {},
     "output_type": "execute_result"
    }
   ],
   "source": [
    "Array{Rational{Int64},1} === Vector{Rational{Int}}  "
   ]
  },
  {
   "cell_type": "markdown",
   "metadata": {},
   "source": [
    "Here, the `===` operator checks for identity (rather than just equality) of objects:"
   ]
  },
  {
   "cell_type": "code",
   "execution_count": 120,
   "metadata": {
    "collapsed": false
   },
   "outputs": [
    {
     "data": {
      "text/plain": [
       "true"
      ]
     },
     "execution_count": 120,
     "metadata": {},
     "output_type": "execute_result"
    }
   ],
   "source": [
    "1 == 1.0"
   ]
  },
  {
   "cell_type": "code",
   "execution_count": 121,
   "metadata": {
    "collapsed": false
   },
   "outputs": [
    {
     "data": {
      "text/plain": [
       "false"
      ]
     },
     "execution_count": 121,
     "metadata": {},
     "output_type": "execute_result"
    }
   ],
   "source": [
    "1 === 1.0"
   ]
  },
  {
   "cell_type": "markdown",
   "metadata": {},
   "source": [
    "We also have a subtype relationship:"
   ]
  },
  {
   "cell_type": "code",
   "execution_count": 122,
   "metadata": {
    "collapsed": false
   },
   "outputs": [
    {
     "data": {
      "text/plain": [
       "true"
      ]
     },
     "execution_count": 122,
     "metadata": {},
     "output_type": "execute_result"
    }
   ],
   "source": [
    "Rational{Int} <: Rational"
   ]
  },
  {
   "cell_type": "markdown",
   "metadata": {},
   "source": [
    "where `Rational` is an abstract type, meaning that we cannot create objects of type `Rational`; they must always be parametrised."
   ]
  },
  {
   "cell_type": "markdown",
   "metadata": {},
   "source": [
    "**However**, we have"
   ]
  },
  {
   "cell_type": "code",
   "execution_count": 123,
   "metadata": {
    "collapsed": false
   },
   "outputs": [
    {
     "data": {
      "text/plain": [
       "false"
      ]
     },
     "execution_count": 123,
     "metadata": {},
     "output_type": "execute_result"
    }
   ],
   "source": [
    "Vector{Rational{Int}} <: Vector{Rational}"
   ]
  },
  {
   "cell_type": "markdown",
   "metadata": {},
   "source": [
    "Thus if we define a method"
   ]
  },
  {
   "cell_type": "code",
   "execution_count": 124,
   "metadata": {
    "code_folding": [],
    "collapsed": false
   },
   "outputs": [
    {
     "data": {
      "text/plain": [
       "h (generic function with 1 method)"
      ]
     },
     "execution_count": 124,
     "metadata": {},
     "output_type": "execute_result"
    }
   ],
   "source": [
    "h(x::Vector{Rational}) = 2x"
   ]
  },
  {
   "cell_type": "markdown",
   "metadata": {},
   "source": [
    "that accepts arguments that are `Vector`s of `Rational`s, we have"
   ]
  },
  {
   "cell_type": "code",
   "execution_count": 158,
   "metadata": {
    "collapsed": false
   },
   "outputs": [
    {
     "ename": "LoadError",
     "evalue": "LoadError: MethodError: `h` has no method matching h(::Array{Rational{Int64},1})\nwhile loading In[158], in expression starting on line 2",
     "output_type": "error",
     "traceback": [
      "LoadError: MethodError: `h` has no method matching h(::Array{Rational{Int64},1})\nwhile loading In[158], in expression starting on line 2",
      ""
     ]
    }
   ],
   "source": [
    "v = [3//4, 4//5]\n",
    "h(v)"
   ]
  },
  {
   "cell_type": "markdown",
   "metadata": {},
   "source": [
    "i.e. `h` **does not** accept arguments of type `Vector{Rational{Int}}`. Instead, we must parametrize explicitly:"
   ]
  },
  {
   "cell_type": "code",
   "execution_count": 125,
   "metadata": {
    "collapsed": false
   },
   "outputs": [
    {
     "data": {
      "text/plain": [
       "h (generic function with 2 methods)"
      ]
     },
     "execution_count": 125,
     "metadata": {},
     "output_type": "execute_result"
    }
   ],
   "source": [
    "h{T}(x::Vector{Rational{T}}) = 2x"
   ]
  },
  {
   "cell_type": "code",
   "execution_count": 126,
   "metadata": {
    "collapsed": false
   },
   "outputs": [
    {
     "data": {
      "text/plain": [
       "2-element Array{Rational{Int64},1}:\n",
       " 3//2\n",
       " 8//5"
      ]
     },
     "execution_count": 126,
     "metadata": {},
     "output_type": "execute_result"
    }
   ],
   "source": [
    "h(v)"
   ]
  },
  {
   "cell_type": "markdown",
   "metadata": {},
   "source": [
    "Here, the syntax `{T}` means \"define a function `h` with this template, for *any* type `T`."
   ]
  },
  {
   "cell_type": "markdown",
   "metadata": {},
   "source": [
    "## Function wrappers (functors) and performance"
   ]
  },
  {
   "cell_type": "markdown",
   "metadata": {},
   "source": [
    "Starting in Julia v0.5, functions are treated differently: the type of each function is unique:"
   ]
  },
  {
   "cell_type": "code",
   "execution_count": 131,
   "metadata": {
    "collapsed": false
   },
   "outputs": [
    {
     "data": {
      "text/plain": [
       "Base.#sin"
      ]
     },
     "execution_count": 131,
     "metadata": {},
     "output_type": "execute_result"
    }
   ],
   "source": [
    "typeof(sin)"
   ]
  },
  {
   "cell_type": "code",
   "execution_count": 132,
   "metadata": {
    "collapsed": false
   },
   "outputs": [
    {
     "data": {
      "text/plain": [
       "Base.#cos"
      ]
     },
     "execution_count": 132,
     "metadata": {},
     "output_type": "execute_result"
    }
   ],
   "source": [
    "typeof(cos)"
   ]
  },
  {
   "cell_type": "code",
   "execution_count": 133,
   "metadata": {
    "collapsed": false
   },
   "outputs": [
    {
     "data": {
      "text/plain": [
       "##1#2"
      ]
     },
     "execution_count": 133,
     "metadata": {},
     "output_type": "execute_result"
    }
   ],
   "source": [
    "typeof(x -> x)"
   ]
  },
  {
   "cell_type": "code",
   "execution_count": 134,
   "metadata": {
    "collapsed": false
   },
   "outputs": [
    {
     "data": {
      "text/plain": [
       "##3#4"
      ]
     },
     "execution_count": 134,
     "metadata": {},
     "output_type": "execute_result"
    }
   ],
   "source": [
    "typeof(x -> x)"
   ]
  },
  {
   "cell_type": "markdown",
   "metadata": {},
   "source": [
    "These types are all subtypes of the abstract type `Function`:"
   ]
  },
  {
   "cell_type": "code",
   "execution_count": 138,
   "metadata": {
    "collapsed": false
   },
   "outputs": [
    {
     "data": {
      "text/plain": [
       "(Function,Function)"
      ]
     },
     "execution_count": 138,
     "metadata": {},
     "output_type": "execute_result"
    }
   ],
   "source": [
    "supertype(typeof(sin)), supertype(typeof(x->x))"
   ]
  },
  {
   "cell_type": "code",
   "execution_count": 139,
   "metadata": {
    "collapsed": false
   },
   "outputs": [
    {
     "data": {
      "text/plain": [
       "true"
      ]
     },
     "execution_count": 139,
     "metadata": {},
     "output_type": "execute_result"
    }
   ],
   "source": [
    "typeof(sin) <: Function"
   ]
  },
  {
   "cell_type": "markdown",
   "metadata": {},
   "source": [
    "This allows us significant performance gains when functions are passed as parameters to other functions, such as `map`. (These latter functions are then called [\"higher-order functions\"](https://en.wikipedia.org/wiki/Higher-order_function).) It also allows performance gains when functions are wrapped in user-defined types that are supposed to behave like functions ([\"function objects\"](https://en.wikipedia.org/wiki/Function_object), sometimes called \"functors\"). \n",
    "\n",
    "We might want to write the following to wrap a function and a value to call in a single object:"
   ]
  },
  {
   "cell_type": "code",
   "execution_count": 146,
   "metadata": {
    "collapsed": true
   },
   "outputs": [],
   "source": [
    "workspace()"
   ]
  },
  {
   "cell_type": "code",
   "execution_count": 147,
   "metadata": {
    "collapsed": false
   },
   "outputs": [],
   "source": [
    "type Wrapper1\n",
    "    f::Function\n",
    "    x::Float64\n",
    "end"
   ]
  },
  {
   "cell_type": "code",
   "execution_count": 148,
   "metadata": {
    "collapsed": false
   },
   "outputs": [
    {
     "data": {
      "text/plain": [
       "Wrapper1(sin,10.0)"
      ]
     },
     "execution_count": 148,
     "metadata": {},
     "output_type": "execute_result"
    }
   ],
   "source": [
    "w = Wrapper1(sin, 10)"
   ]
  },
  {
   "cell_type": "markdown",
   "metadata": {},
   "source": [
    "We want to think of `w` itself as a function, but currently it cannot be called:"
   ]
  },
  {
   "cell_type": "code",
   "execution_count": 149,
   "metadata": {
    "collapsed": false
   },
   "outputs": [
    {
     "ename": "LoadError",
     "evalue": "LoadError: MethodError: objects of type Wrapper1 are not callable\nwhile loading In[149], in expression starting on line 1",
     "output_type": "error",
     "traceback": [
      "LoadError: MethodError: objects of type Wrapper1 are not callable\nwhile loading In[149], in expression starting on line 1",
      ""
     ]
    }
   ],
   "source": [
    "w()"
   ]
  },
  {
   "cell_type": "markdown",
   "metadata": {},
   "source": [
    "We can define this as follows:"
   ]
  },
  {
   "cell_type": "code",
   "execution_count": 150,
   "metadata": {
    "collapsed": true
   },
   "outputs": [],
   "source": [
    "(w::Wrapper1)() = w.f(w.x)"
   ]
  },
  {
   "cell_type": "code",
   "execution_count": 153,
   "metadata": {
    "collapsed": false
   },
   "outputs": [
    {
     "data": {
      "text/plain": [
       "(-0.5440211108893698,-0.5440211108893698)"
      ]
     },
     "execution_count": 153,
     "metadata": {},
     "output_type": "execute_result"
    }
   ],
   "source": [
    "w(), sin(10)"
   ]
  },
  {
   "cell_type": "markdown",
   "metadata": {},
   "source": [
    "However, this is not performant. The main reason is that we could now do the following:"
   ]
  },
  {
   "cell_type": "code",
   "execution_count": 154,
   "metadata": {
    "collapsed": false
   },
   "outputs": [
    {
     "data": {
      "text/plain": [
       "cos (generic function with 10 methods)"
      ]
     },
     "execution_count": 154,
     "metadata": {},
     "output_type": "execute_result"
    }
   ],
   "source": [
    "w.f = cos"
   ]
  },
  {
   "cell_type": "code",
   "execution_count": 156,
   "metadata": {
    "collapsed": false
   },
   "outputs": [
    {
     "data": {
      "text/plain": [
       "(-0.8390715290764524,-0.8390715290764524)"
      ]
     },
     "execution_count": 156,
     "metadata": {},
     "output_type": "execute_result"
    }
   ],
   "source": [
    "w(), cos(10)"
   ]
  },
  {
   "cell_type": "markdown",
   "metadata": {},
   "source": [
    "It is only *at run time*, when the function call is executed, that Julia knows which function is stored inside the object, and at that moment it must do a (slow) look-up."
   ]
  },
  {
   "cell_type": "markdown",
   "metadata": {},
   "source": [
    "To solve this problem, we parameterize the wrapper type:"
   ]
  },
  {
   "cell_type": "code",
   "execution_count": 158,
   "metadata": {
    "collapsed": true
   },
   "outputs": [],
   "source": [
    "type Wrapper2{F}\n",
    "    f::F\n",
    "    x::Float64\n",
    "end"
   ]
  },
  {
   "cell_type": "code",
   "execution_count": 160,
   "metadata": {
    "collapsed": false
   },
   "outputs": [
    {
     "data": {
      "text/plain": [
       "Wrapper2{Base.#sin}(sin,10.0)"
      ]
     },
     "execution_count": 160,
     "metadata": {},
     "output_type": "execute_result"
    }
   ],
   "source": [
    "w = Wrapper2(sin, 10.0)"
   ]
  },
  {
   "cell_type": "markdown",
   "metadata": {},
   "source": [
    "Again, Julia infers the value of `F`, and creates an object of this new type, with a parameter `F` that is the type of `sin`. We again define how to call an object of this type, now with a slightly more complicated syntax, due to the parameter:"
   ]
  },
  {
   "cell_type": "code",
   "execution_count": 161,
   "metadata": {
    "collapsed": true
   },
   "outputs": [],
   "source": [
    "(w::Wrapper2{F}){F}() = w.f(w.x)"
   ]
  },
  {
   "cell_type": "code",
   "execution_count": 162,
   "metadata": {
    "collapsed": false
   },
   "outputs": [
    {
     "data": {
      "text/plain": [
       "-0.5440211108893698"
      ]
     },
     "execution_count": 162,
     "metadata": {},
     "output_type": "execute_result"
    }
   ],
   "source": [
    "w()"
   ]
  },
  {
   "cell_type": "markdown",
   "metadata": {},
   "source": [
    "The difference in performance can be measured. The dynamic look-up can be seen using `@code_llvm` or `@code_native`."
   ]
  },
  {
   "cell_type": "markdown",
   "metadata": {},
   "source": [
    "For an interesting discussion about how this is actually used to create very efficient complicated array structures, see [Tim Holy's keynote at JuliaCon 2016](https://www.youtube.com/watch?v=fl0g9tHeghA).\n",
    "\n",
    "One caveat (trade-off) is that this approach requires a new version of `Wrapper2` to be compiled for each function that is passed to it."
   ]
  },
  {
   "cell_type": "markdown",
   "metadata": {},
   "source": [
    "## Abstract types and inheritance"
   ]
  },
  {
   "cell_type": "markdown",
   "metadata": {},
   "source": [
    "A type of \"inheritance\" is possible in Julia. As a simple example, consider two types of objects in a simulation, particles, discs, and squares. These are all subtypes of objects that will have certain properties in common, for example that they can move. Each type of object has a position, but discs and squares also have other properties. \n",
    "\n",
    "We make an abstract type `MovableObject` and subtypes of it: "
   ]
  },
  {
   "cell_type": "code",
   "execution_count": 164,
   "metadata": {
    "collapsed": true
   },
   "outputs": [],
   "source": [
    "abstract MovableObject\n",
    "\n",
    "immutable Particle\n",
    "    pos::Int\n",
    "end\n",
    "\n",
    "immutable Disc\n",
    "    pos::Int\n",
    "    radius::Float64\n",
    "end\n",
    "\n",
    "immutable Square\n",
    "    pos::Int\n",
    "    side::Float64\n",
    "end"
   ]
  },
  {
   "cell_type": "markdown",
   "metadata": {},
   "source": [
    "We could imagine that most objects will move by changing their position:"
   ]
  },
  {
   "cell_type": "code",
   "execution_count": 129,
   "metadata": {
    "collapsed": false
   },
   "outputs": [
    {
     "data": {
      "text/plain": [
       "move (generic function with 1 method)"
      ]
     },
     "execution_count": 129,
     "metadata": {},
     "output_type": "execute_result"
    }
   ],
   "source": [
    "move(obj::MovableObject) = x += 1"
   ]
  },
  {
   "cell_type": "markdown",
   "metadata": {},
   "source": [
    "but that `Square`s expand and contract by changing their side length"
   ]
  },
  {
   "cell_type": "code",
   "execution_count": 130,
   "metadata": {
    "collapsed": false
   },
   "outputs": [
    {
     "data": {
      "text/plain": [
       "move (generic function with 2 methods)"
      ]
     },
     "execution_count": 130,
     "metadata": {},
     "output_type": "execute_result"
    }
   ],
   "source": [
    "move(s::Square) = side += 1"
   ]
  },
  {
   "cell_type": "markdown",
   "metadata": {},
   "source": [
    "The `move` function applies to any `MovableObject`, but the specialised version of the function for `Square`s automatically takes priority."
   ]
  },
  {
   "cell_type": "code",
   "execution_count": null,
   "metadata": {
    "collapsed": true
   },
   "outputs": [],
   "source": []
  }
 ],
 "metadata": {
  "kernelspec": {
   "display_name": "Julia 0.5.0",
   "language": "julia",
   "name": "julia-0.5"
  },
  "language_info": {
   "file_extension": ".jl",
   "mimetype": "application/julia",
   "name": "julia",
   "version": "0.5.0"
  },
  "toc": {
   "nav_menu": {
    "height": "228px",
    "width": "252px"
   },
   "navigate_menu": true,
   "number_sections": true,
   "sideBar": true,
   "threshold": 4,
   "toc_cell": false,
   "toc_section_display": "block",
   "toc_window_display": true
  }
 },
 "nbformat": 4,
 "nbformat_minor": 0
}
